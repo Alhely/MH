{
 "cells": [
  {
   "cell_type": "code",
   "execution_count": 6,
   "id": "e420c53e-c437-400a-a272-fc7b308bd6f7",
   "metadata": {},
   "outputs": [],
   "source": [
    "import numpy as np\n",
    "import math"
   ]
  },
  {
   "cell_type": "code",
   "execution_count": 7,
   "id": "dbf869dc-88a8-4169-9a0a-aa8b19df30a9",
   "metadata": {},
   "outputs": [],
   "source": [
    "import numpy as np\n",
    "\n",
    "def TLBO_algorithm(n, tf, dimension, iterations, lower_bound, upper_bound, f, task):\n",
    "    ## initialize population\n",
    "    students = np.random.uniform(lower_bound, upper_bound, size=(n, dimension)) \n",
    "    fitness = np.apply_along_axis(f, 1, students)\n",
    "\n",
    "    best_idx = np.argmax(fitness) if task == 'max' else np.argmin(fitness)\n",
    "    best_fitness = fitness[best_idx]\n",
    "    teacher = students[best_idx]\n",
    "\n",
    "    t = 0\n",
    "    while t < iterations:\n",
    "        # Update teacher information\n",
    "        teacher = students[best_idx]\n",
    "        mean = np.mean(students, axis=0)\n",
    "\n",
    "        for i in range(n):\n",
    "            # Teacher update\n",
    "            r = np.random.rand(dimension)\n",
    "            new_x = students[i] + r * (teacher - tf * mean) \n",
    "            new_x = np.clip(new_x, lower_bound, upper_bound)\n",
    "            new_fitness = f(new_x)\n",
    "\n",
    "            if task == 'max' and new_fitness > fitness[i]:\n",
    "                students[i] = new_x\n",
    "                fitness[i] = new_fitness\n",
    "            elif task == 'min' and new_fitness < fitness[i]:\n",
    "                students[i] = new_x\n",
    "                fitness[i] = new_fitness\n",
    "\n",
    "            # Learner update\n",
    "            p = np.random.randint(0, n)\n",
    "            r2 = np.random.rand(dimension)\n",
    "\n",
    "            if p == i: \n",
    "                p = np.random.randint(0, n)\n",
    "                \n",
    "            # Compare fitness of i and p\n",
    "            f_i = fitness[i]\n",
    "            f_p = fitness[p]\n",
    "\n",
    "            if task == 'max':\n",
    "                if f_i > f_p:\n",
    "                    new_x = students[i] + r2 * (students[i] - students[p])\n",
    "                else:\n",
    "                    new_x = students[i] - r2 * (students[i] - students[p])\n",
    "                new_x = np.clip(new_x, lower_bound, upper_bound)\n",
    "                new_fitness = f(new_x)\n",
    "\n",
    "                if new_fitness > fitness[i]:\n",
    "                    students[i] = new_x\n",
    "                    fitness[i] = new_fitness\n",
    "            elif task == 'min':\n",
    "                if f_i > f_p:\n",
    "                    new_x = students[i] - r2 * (students[i] - students[p])\n",
    "                else:\n",
    "                    new_x = students[i] + r2 * (students[i] - students[p])\n",
    "                new_x = np.clip(new_x, lower_bound, upper_bound)\n",
    "                new_fitness = f(new_x)\n",
    "\n",
    "                if new_fitness < fitness[i]:\n",
    "                    students[i] = new_x\n",
    "                    fitness[i] = new_fitness\n",
    "        \n",
    "        # Update the best fitness and teacher if needed\n",
    "        best_idx = np.argmax(fitness) if task == 'max' else np.argmin(fitness)\n",
    "        best_fitness = fitness[best_idx]\n",
    "\n",
    "        t += 1\n",
    "    \n",
    "    return best_fitness, students[best_idx]"
   ]
  },
  {
   "cell_type": "code",
   "execution_count": 8,
   "id": "d8d99f9e-d599-488f-b7e6-e1cbc2f9dd8f",
   "metadata": {},
   "outputs": [
    {
     "data": {
      "text/plain": [
       "0.0"
      ]
     },
     "execution_count": 8,
     "metadata": {},
     "output_type": "execute_result"
    }
   ],
   "source": [
    "def beale(X):\n",
    "    return ((1.5 - X[0] + (X[0]*X[1]))**2)  + ((2.25 - X[0]+(X[0]*(X[1]**2)))**2)+ ((2.625-X[0]+(X[0]*(X[1]**3)))**2)\n",
    "\n",
    "## valor optimo 3,.5, f = 0\n",
    "beale([3, 0.5])"
   ]
  },
  {
   "cell_type": "code",
   "execution_count": 10,
   "id": "6a8a2f17-43fd-45b5-bcec-0623cea4ac41",
   "metadata": {},
   "outputs": [],
   "source": [
    "from timeit import default_timer as timer"
   ]
  },
  {
   "cell_type": "code",
   "execution_count": 12,
   "id": "2aafd060-30b8-486d-a143-6f17bffeb12b",
   "metadata": {},
   "outputs": [
    {
     "name": "stdout",
     "output_type": "stream",
     "text": [
      "(np.float64(3.9038305457268325e-17), array([3. , 0.5]))\n",
      "0.5636766999996325\n"
     ]
    }
   ],
   "source": [
    "# TLBO_algorithm(n, tf, dimension, iterations, lower_bound, upper_bound, f, task)\n",
    "start = timer()\n",
    "print(TLBO_algorithm(100, 1, 2, 100,  -100, 100, beale, 'min'))\n",
    "stop = timer()\n",
    "execution_time = stop - start\n",
    "print(execution_time)"
   ]
  },
  {
   "cell_type": "code",
   "execution_count": 17,
   "id": "02542121-69f8-4d53-8b7a-174692a8d3f3",
   "metadata": {},
   "outputs": [],
   "source": [
    "def McCormick(X):\n",
    "    return np.sin(X[0]+X[1]) + (X[0]-X[1])**2 - 1.5 * X[0] + 2.5 * X[1] + 1"
   ]
  },
  {
   "cell_type": "code",
   "execution_count": 18,
   "id": "577c43c6-66f4-4ef0-a1bc-ff65aa002565",
   "metadata": {},
   "outputs": [
    {
     "data": {
      "text/plain": [
       "np.float64(-1.913222954882274)"
      ]
     },
     "execution_count": 18,
     "metadata": {},
     "output_type": "execute_result"
    }
   ],
   "source": [
    "McCormick([-0.54719,-1.54719])"
   ]
  },
  {
   "cell_type": "code",
   "execution_count": 19,
   "id": "809bcc8b-e7cf-46d5-9574-98a23ef48a14",
   "metadata": {},
   "outputs": [
    {
     "name": "stdout",
     "output_type": "stream",
     "text": [
      "(np.float64(-1.9132229549810367), array([-0.54719755, -1.54719755]))\n",
      "0.7117049000007682\n"
     ]
    }
   ],
   "source": [
    "# TLBO_algorithm(n, tf, dimension, iterations, lower_bound, upper_bound, f, task)\n",
    "start = timer()\n",
    "print(TLBO_algorithm(100, 1, 2, 100,  -3, 4, McCormick, 'min'))\n",
    "stop = timer()\n",
    "execution_time = stop - start\n",
    "print(execution_time)"
   ]
  },
  {
   "cell_type": "code",
   "execution_count": 21,
   "id": "606a1beb-7a89-4d88-b898-6bb50b121771",
   "metadata": {},
   "outputs": [
    {
     "data": {
      "text/plain": [
       "181.61652152257642"
      ]
     },
     "execution_count": 21,
     "metadata": {},
     "output_type": "execute_result"
    }
   ],
   "source": [
    "def himm(X):\n",
    "    return ((X[0]**2+X[1]-11)**2) + ((X[0]+(X[1]**2)-7)**2 )\n",
    "himm([-0.270845,-0.923039])"
   ]
  },
  {
   "cell_type": "code",
   "execution_count": 22,
   "id": "1cbdc6c8-d8f0-4c09-a414-2a963583724d",
   "metadata": {},
   "outputs": [
    {
     "name": "stdout",
     "output_type": "stream",
     "text": [
      "(np.float64(181.61652152258273), array([-0.27084458, -0.92303853]))\n",
      "0.6625543000045582\n"
     ]
    }
   ],
   "source": [
    "# TLBO_algorithm(n, tf, dimension, iterations, lower_bound, upper_bound, f, task)\n",
    "start = timer()\n",
    "print(TLBO_algorithm(100, 1, 2, 100,  -1, 1, himm, 'max'))\n",
    "stop = timer()\n",
    "execution_time = stop - start\n",
    "print(execution_time)"
   ]
  },
  {
   "cell_type": "code",
   "execution_count": null,
   "id": "a22dea29-edef-4259-91fe-ad54f1a4bccc",
   "metadata": {},
   "outputs": [],
   "source": []
  },
  {
   "cell_type": "code",
   "execution_count": null,
   "id": "c831e8cc-26fb-4dd3-ac8f-52050cfa3754",
   "metadata": {},
   "outputs": [],
   "source": []
  },
  {
   "cell_type": "code",
   "execution_count": null,
   "id": "9a67a8a4-9592-4ded-aa53-945fb2c47187",
   "metadata": {},
   "outputs": [],
   "source": []
  },
  {
   "cell_type": "code",
   "execution_count": null,
   "id": "c16f3488-fb36-41e0-b625-1d8c3ba181c8",
   "metadata": {},
   "outputs": [],
   "source": []
  }
 ],
 "metadata": {
  "kernelspec": {
   "display_name": "Python 3 (ipykernel)",
   "language": "python",
   "name": "python3"
  },
  "language_info": {
   "codemirror_mode": {
    "name": "ipython",
    "version": 3
   },
   "file_extension": ".py",
   "mimetype": "text/x-python",
   "name": "python",
   "nbconvert_exporter": "python",
   "pygments_lexer": "ipython3",
   "version": "3.12.7"
  }
 },
 "nbformat": 4,
 "nbformat_minor": 5
}
