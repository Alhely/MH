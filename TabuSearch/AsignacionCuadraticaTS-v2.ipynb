{
 "cells": [
  {
   "cell_type": "code",
   "execution_count": 1,
   "id": "31e520d4-2cda-43f9-86d3-17b3de2d2b49",
   "metadata": {},
   "outputs": [],
   "source": [
    "import numpy as np\n",
    "import random\n",
    "             #f1, f2,f3,f4,f5,f6,f7\n",
    "metrics = np.array([[0,1,2,3,1,2,3,4], #d0\n",
    "          [5,0,1,2,2,1,2,3], #d1\n",
    "          [2,3,0,1,3,2,1,2], #d2\n",
    "          [4,0,0,0,4,3,2,1],#d3\n",
    "          [1,2,0,5,0,1,2,3],#d4\n",
    "          [0,2,0,2,10,0,1,2],#d5\n",
    "          [0,2,0,2,0,5,0,1],#d6\n",
    "          [6,0,5,10,0,1,10,0]]) #d7"
   ]
  },
  {
   "cell_type": "code",
   "execution_count": 2,
   "id": "b1c20dcb-d9fb-4d9b-90e0-5f7dac0623db",
   "metadata": {},
   "outputs": [],
   "source": [
    "import random\n",
    "def randomSolution(N): #number of row is number of population\n",
    "    random_solution = random.sample(range(N), N)\n",
    "\n",
    "    return random_solution"
   ]
  },
  {
   "cell_type": "code",
   "execution_count": 3,
   "id": "52b9f703-cb01-4cf1-b2d8-c6e9bb9fa4c8",
   "metadata": {},
   "outputs": [],
   "source": [
    "def calcular_costo(ubicacion,instalacion, solucion):\n",
    "    N = len(solucion)\n",
    "    totalCost = 0\n",
    "    for i in range(N): # la ubicación el indice, la instalacion es el valor almacenado en el indice \n",
    "        for j in range(i,N): \n",
    "            instalacion1 = solucion[i] \n",
    "            instalacion2 = solucion[j]\n",
    "            ubicacion1 = i\n",
    "            ubicacion2 = j \n",
    "            totalCost += instalacion[instalacion1][instalacion2] * ubicacion[ubicacion1][ubicacion2]\n",
    "            \n",
    "    return int(totalCost)"
   ]
  },
  {
   "cell_type": "code",
   "execution_count": 4,
   "id": "3a8b9955-8e3d-4f71-a092-bf90712f0d0e",
   "metadata": {},
   "outputs": [],
   "source": [
    "import copy"
   ]
  },
  {
   "cell_type": "code",
   "execution_count": 5,
   "id": "81425dbb-5644-4c55-aead-a90514c73efb",
   "metadata": {},
   "outputs": [],
   "source": [
    "def neighbors(solucion):\n",
    "    N = len(solucion)\n",
    "    lst_choices = [i for i in range(N)]\n",
    "    idx1 = random.choice(lst_choices)\n",
    "    lst_choices.remove(idx1)\n",
    "    idx2 = random.choice(lst_choices)\n",
    "\n",
    "    vecino = copy.deepcopy(solucion)\n",
    "    vecino[idx1] = solucion[idx2]\n",
    "    vecino[idx2] = solucion[idx1]\n",
    "    return vecino, solucion[idx2],solucion[idx1]"
   ]
  },
  {
   "cell_type": "code",
   "execution_count": 6,
   "id": "94fbf057-4f72-4020-858f-9b0a373c4af5",
   "metadata": {},
   "outputs": [
    {
     "data": {
      "text/plain": [
       "([2, 3, 1, 5, 4, 0], 5, 4)"
      ]
     },
     "execution_count": 6,
     "metadata": {},
     "output_type": "execute_result"
    }
   ],
   "source": [
    "neighbors([2, 3, 1, 4, 5, 0])"
   ]
  },
  {
   "cell_type": "code",
   "execution_count": 7,
   "id": "7464378d-6df1-479c-8fa9-9adae0d10156",
   "metadata": {},
   "outputs": [],
   "source": [
    "tst_d = {(2,3):2,(4,5):4}"
   ]
  },
  {
   "cell_type": "code",
   "execution_count": 8,
   "id": "cee96ae4-c79c-4280-8f44-b864afda0e76",
   "metadata": {},
   "outputs": [],
   "source": [
    "for e in tst_d.keys():\n",
    "    tst_d[e] = tst_d[e] - 1"
   ]
  },
  {
   "cell_type": "code",
   "execution_count": 9,
   "id": "3f4eee53-076a-4953-a2b2-77997fd18637",
   "metadata": {},
   "outputs": [
    {
     "data": {
      "text/plain": [
       "1"
      ]
     },
     "execution_count": 9,
     "metadata": {},
     "output_type": "execute_result"
    }
   ],
   "source": [
    "tst_d.pop((2, 3))"
   ]
  },
  {
   "cell_type": "code",
   "execution_count": 10,
   "id": "2e3384ef-480b-41ca-b838-26e0e00f1637",
   "metadata": {},
   "outputs": [
    {
     "data": {
      "text/plain": [
       "dict_keys([(4, 5)])"
      ]
     },
     "execution_count": 10,
     "metadata": {},
     "output_type": "execute_result"
    }
   ],
   "source": [
    "tst_d.keys()"
   ]
  },
  {
   "cell_type": "code",
   "execution_count": 11,
   "id": "cc495085-7dfd-4f7f-8a8a-a48a27824db0",
   "metadata": {},
   "outputs": [],
   "source": [
    "def tabu_search(max_iterations,permanencia,tamaño_vecindad,M,n ):\n",
    "    \n",
    "    flujo_m = np.tril(M,0)+np.tril(M,0).T\n",
    "    distancia_m = np.triu(M,0)+np.triu(M,0).T\n",
    "\n",
    "    sol_inicial = randomSolution(n)\n",
    "\n",
    "    sol_actual = sol_inicial\n",
    "    costo_actual = calcular_costo(distancia_m,flujo_m, sol_actual)\n",
    "    scores = []\n",
    "    solutions = []\n",
    "    scores.append(costo_actual)\n",
    "    solutions.append(sol_actual)\n",
    "    \n",
    "    tabu_list = {}\n",
    "    k = 0\n",
    "    \n",
    "    while k <= max_iterations:\n",
    "        #generar vecindad\n",
    "        vecinos = []\n",
    "        costos = []\n",
    "        tuplas = []\n",
    "        best_historical_score_so_far = scores[np.argmin(scores)]\n",
    "        \n",
    "        while len(vecinos)<tamaño_vecindad:\n",
    "            sol,val1, val2 = neighbors(sol_actual)\n",
    "            if sol not in vecinos: # todos son distintos\n",
    "                costo = calcular_costo(distancia_m,flujo_m, sol_actual) # evaluar vecinos.\n",
    "                vecinos.append(sol)\n",
    "                costos.append(costo)\n",
    "                tuplas.append((val1, val2))\n",
    "                \n",
    "        ## obtener el menor costo de la lista\n",
    "        min_costo = np.argmin(np.array(costos))\n",
    "        best_neighbor = vecinos[min_costo]\n",
    "        ## criterios\n",
    " \n",
    "        if (tuplas[min_costo] not in (tabu_list.keys())) :\n",
    "           sol_actual = best_neighbor\n",
    "           costo_actual = costos[min_costo]\n",
    "           scores.append(costo_actual)\n",
    "           solutions.append(sol_actual)\n",
    "        elif ((tuplas[min_costo] in (tabu_list.keys())) and (min_costo < best_historical_score_so_far)):\n",
    "            sol_actual = best_neighbor\n",
    "            costo_actual = costos[min_costo]\n",
    "            scores.append(costo_actual)\n",
    "            solutions.append(sol_actual)\n",
    "            \n",
    "        for tabu_element in tabu_list.copy().keys():\n",
    "            tabu_list[tabu_element] = tabu_list[tabu_element] - 1 \n",
    "            if tabu_list[tabu_element] == 0:\n",
    "                tabu_list.pop(tabu_element)\n",
    "\n",
    "        tabu_list[tuplas[min_costo]] = permanencia\n",
    "        \n",
    "        k += 1\n",
    "\n",
    "\n",
    "    return solutions,scores"
   ]
  },
  {
   "cell_type": "code",
   "execution_count": 12,
   "id": "9512804a-802e-49e0-ae6b-e85ac54f7741",
   "metadata": {},
   "outputs": [],
   "source": [
    "iteraciones = 650\n",
    "permanencia = 5\n",
    "tamaño_vecindad = 30"
   ]
  },
  {
   "cell_type": "code",
   "execution_count": 13,
   "id": "ca0b090b-1fcf-4383-b008-e737ba56b994",
   "metadata": {},
   "outputs": [
    {
     "name": "stderr",
     "output_type": "stream",
     "text": [
      "\n",
      "KeyboardInterrupt\n",
      "\n"
     ]
    }
   ],
   "source": [
    "sol_lst, scores_lst = tabu_search(iteraciones, permanencia ,tamaño_vecindad, metrics,8 )\n",
    "print('Mejor Solución:',sol_lst[np.argmin(scores_lst)])\n",
    "print('Costo de la Mejor Solución:',scores_lst[np.argmin(scores_lst)])"
   ]
  },
  {
   "cell_type": "code",
   "execution_count": null,
   "id": "cd7627d6-78cf-4b72-a957-976a18775642",
   "metadata": {},
   "outputs": [],
   "source": [
    "sol_lst, scores_lst = tabu_search(350, 5 ,5, metrics,8 )\n",
    "print('Mejor Solución:',sol_lst[np.argmin(scores_lst)])\n",
    "print('Costo de la Mejor Solución:',scores_lst[np.argmin(scores_lst)])"
   ]
  },
  {
   "cell_type": "code",
   "execution_count": null,
   "id": "12567a41-f629-4749-956f-5cd8c7c8535b",
   "metadata": {},
   "outputs": [],
   "source": [
    "sol_lst, scores_lst = tabu_search(450, 5 ,5, metrics,8 )\n",
    "print('Mejor Solución:',sol_lst[np.argmin(scores_lst)])\n",
    "print('Costo de la Mejor Solución:',scores_lst[np.argmin(scores_lst)])"
   ]
  },
  {
   "cell_type": "code",
   "execution_count": null,
   "id": "48e93b2a-0ddf-4376-a90a-984cffe71d2b",
   "metadata": {},
   "outputs": [],
   "source": [
    "sol_lst, scores_lst = tabu_search(500, 5 ,5, metrics,8 )\n",
    "print('Mejor Solución:',sol_lst[np.argmin(scores_lst)])\n",
    "print('Costo de la Mejor Solución:',scores_lst[np.argmin(scores_lst)])"
   ]
  },
  {
   "cell_type": "code",
   "execution_count": null,
   "id": "5c76533f-898d-4caf-97c4-413a54dc5ab9",
   "metadata": {},
   "outputs": [],
   "source": [
    "sol_lst, scores_lst = tabu_search(550, 5 ,5, metrics,8 )\n",
    "print('Mejor Solución:',sol_lst[np.argmin(scores_lst)])\n",
    "print('Costo de la Mejor Solución:',scores_lst[np.argmin(scores_lst)])"
   ]
  },
  {
   "cell_type": "code",
   "execution_count": null,
   "id": "3ef3a072-f798-4895-b980-ac8596b726a8",
   "metadata": {},
   "outputs": [],
   "source": []
  }
 ],
 "metadata": {
  "kernelspec": {
   "display_name": "Python 3 (ipykernel)",
   "language": "python",
   "name": "python3"
  },
  "language_info": {
   "codemirror_mode": {
    "name": "ipython",
    "version": 3
   },
   "file_extension": ".py",
   "mimetype": "text/x-python",
   "name": "python",
   "nbconvert_exporter": "python",
   "pygments_lexer": "ipython3",
   "version": "3.12.7"
  }
 },
 "nbformat": 4,
 "nbformat_minor": 5
}
