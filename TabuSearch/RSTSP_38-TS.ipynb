{
 "cells": [
  {
   "cell_type": "code",
   "execution_count": 1,
   "id": "31e520d4-2cda-43f9-86d3-17b3de2d2b49",
   "metadata": {},
   "outputs": [],
   "source": [
    "import numpy as np\n",
    "import random"
   ]
  },
  {
   "cell_type": "code",
   "execution_count": 2,
   "id": "ed12a28c-124e-4735-a8fa-20d40dae0fc0",
   "metadata": {},
   "outputs": [],
   "source": [
    "import tsplib95"
   ]
  },
  {
   "cell_type": "code",
   "execution_count": 3,
   "id": "a20c9578-c940-4edd-a0ca-f5ec3ce37eff",
   "metadata": {},
   "outputs": [],
   "source": [
    "with open('dj38.tsp') as f:\n",
    "    problem = tsplib95.read(f)"
   ]
  },
  {
   "cell_type": "code",
   "execution_count": 4,
   "id": "6f426ba6-3524-4af5-85f6-4074a41b51a8",
   "metadata": {},
   "outputs": [
    {
     "data": {
      "text/plain": [
       "0"
      ]
     },
     "execution_count": 4,
     "metadata": {},
     "output_type": "execute_result"
    }
   ],
   "source": [
    "problem.get_weight(2,2)"
   ]
  },
  {
   "cell_type": "code",
   "execution_count": 5,
   "id": "aa73fdeb-3b1c-4528-a56f-15ded11eb837",
   "metadata": {},
   "outputs": [
    {
     "name": "stdout",
     "output_type": "stream",
     "text": [
      "Help on method get_weight in module tsplib95.models:\n",
      "\n",
      "get_weight(start, end) method of tsplib95.models.StandardProblem instance\n",
      "    Return the weight of the edge between start and end.\n",
      "\n",
      "    This method provides a single way to obtain edge weights regardless of\n",
      "    whether the problem uses an explicit matrix or a distance function.\n",
      "\n",
      "    :param int start: starting node index\n",
      "    :param int end: ending node index\n",
      "    :return: weight of the edge between start and end\n",
      "    :rtype: float\n",
      "\n"
     ]
    }
   ],
   "source": [
    "help(problem.get_weight)"
   ]
  },
  {
   "cell_type": "code",
   "execution_count": 6,
   "id": "b1c20dcb-d9fb-4d9b-90e0-5f7dac0623db",
   "metadata": {},
   "outputs": [],
   "source": [
    "import random\n",
    "def randomSolution(N): #number of row is number of population\n",
    "    random_solution = random.sample(range(1,N+1), N)\n",
    "    return random_solution"
   ]
  },
  {
   "cell_type": "code",
   "execution_count": 7,
   "id": "ffb70e51-4104-4131-a7a4-12f35c026eae",
   "metadata": {},
   "outputs": [],
   "source": [
    "tst_sol = randomSolution(32)"
   ]
  },
  {
   "cell_type": "code",
   "execution_count": 8,
   "id": "3c3b7124-b808-43db-8b75-b81c45f6b089",
   "metadata": {},
   "outputs": [
    {
     "data": {
      "text/plain": [
       "np.int64(18)"
      ]
     },
     "execution_count": 8,
     "metadata": {},
     "output_type": "execute_result"
    }
   ],
   "source": [
    "np.argmax(tst_sol)"
   ]
  },
  {
   "cell_type": "code",
   "execution_count": 9,
   "id": "d87a86ee-005a-4ad9-b4ea-dc04258a17cb",
   "metadata": {},
   "outputs": [
    {
     "data": {
      "text/plain": [
       "1"
      ]
     },
     "execution_count": 9,
     "metadata": {},
     "output_type": "execute_result"
    }
   ],
   "source": [
    "tst_sol[0]"
   ]
  },
  {
   "cell_type": "code",
   "execution_count": 10,
   "id": "52b9f703-cb01-4cf1-b2d8-c6e9bb9fa4c8",
   "metadata": {},
   "outputs": [],
   "source": [
    "def calcular_costo(solucion):\n",
    "    totalCost = 0\n",
    "    for i in range(len(solucion)):\n",
    "        from_city = solucion[i] \n",
    "        to_city = None\n",
    "        if i+1 < len(solucion):\n",
    "            to_city = solucion[i+1]\n",
    "        else:\n",
    "            to_city = solucion[0]\n",
    "        \n",
    "        totalCost += problem.get_weight(from_city, to_city)\n",
    "    \n",
    "    return totalCost"
   ]
  },
  {
   "cell_type": "code",
   "execution_count": 11,
   "id": "3a8b9955-8e3d-4f71-a092-bf90712f0d0e",
   "metadata": {},
   "outputs": [],
   "source": [
    "import copy"
   ]
  },
  {
   "cell_type": "code",
   "execution_count": 12,
   "id": "81425dbb-5644-4c55-aead-a90514c73efb",
   "metadata": {},
   "outputs": [],
   "source": [
    "def neighbors(solucion):\n",
    "    N = len(solucion)\n",
    "    lst_choices = [i for i in range(N)]\n",
    "    idx1 = random.choice(lst_choices)\n",
    "    lst_choices.remove(idx1)\n",
    "    idx2 = random.choice(lst_choices)\n",
    "\n",
    "    vecino = copy.deepcopy(solucion)\n",
    "    vecino[idx1] = solucion[idx2]\n",
    "    vecino[idx2] = solucion[idx1]\n",
    "    return vecino, solucion[idx2],solucion[idx1]"
   ]
  },
  {
   "cell_type": "code",
   "execution_count": 13,
   "id": "cc495085-7dfd-4f7f-8a8a-a48a27824db0",
   "metadata": {},
   "outputs": [],
   "source": [
    "def tabu_search(max_iterations, permanencia, tamaño_vecindad, n):\n",
    "    sol_inicial = randomSolution(n)\n",
    "    sol_actual = sol_inicial\n",
    "    costo_actual = calcular_costo(sol_actual)\n",
    "    \n",
    "    scores = [costo_actual]\n",
    "    solutions = [sol_actual]\n",
    "    \n",
    "    tabu_list = {}\n",
    "    k = 0\n",
    "    \n",
    "    while k <= max_iterations:\n",
    "        vecinos = []\n",
    "        costos = []\n",
    "        movimientos = []\n",
    "        best_historical_score = min(scores)\n",
    "        \n",
    "        # Generar vecindad sin repeticiones\n",
    "        while len(vecinos) < tamaño_vecindad:\n",
    "            vecino, val1, val2 = neighbors(sol_actual)\n",
    "            if vecino not in vecinos:\n",
    "                costo_vecino = calcular_costo(vecino)\n",
    "                vecinos.append(vecino)\n",
    "                costos.append(costo_vecino)\n",
    "                movimientos.append((val1, val2))\n",
    "\n",
    "        # Encontrar el mejor vecino\n",
    "        idx_mejor = np.argmin(costos)\n",
    "        mejor_vecino = vecinos[idx_mejor]\n",
    "        mejor_costo = costos[idx_mejor]\n",
    "        movimiento = movimientos[idx_mejor]\n",
    "        \n",
    "        # Criterios de aceptación\n",
    "        if (movimiento not in tabu_list) and (mejor_costo < costo_actual):\n",
    "            sol_actual = mejor_vecino\n",
    "            costo_actual = mejor_costo\n",
    "        elif (movimiento in tabu_list) and (mejor_costo < best_historical_score):\n",
    "            sol_actual = mejor_vecino\n",
    "            costo_actual = mejor_costo\n",
    "        else:\n",
    "            # Si no se cumple ningún criterio, no se cambia la solución\n",
    "            pass\n",
    "        \n",
    "        scores.append(costo_actual)\n",
    "        solutions.append(sol_actual)\n",
    "\n",
    "        # Actualizar lista tabu\n",
    "        tabu_list = {mov: dur - 1 for mov, dur in tabu_list.items() if dur > 1}\n",
    "        tabu_list[movimiento] = permanencia\n",
    "\n",
    "        k += 1\n",
    "\n",
    "    return solutions, scores\n"
   ]
  },
  {
   "cell_type": "code",
   "execution_count": 14,
   "id": "90f7723c-fa0e-4aa7-8dfb-57187eb3fb58",
   "metadata": {},
   "outputs": [],
   "source": [
    "#Optimal Value:  6656"
   ]
  },
  {
   "cell_type": "code",
   "execution_count": 15,
   "id": "8463a860-d010-44db-a481-699a041b30a0",
   "metadata": {},
   "outputs": [],
   "source": [
    "iteraciones = 2500\n",
    "permanencia = 2\n",
    "tamaño_vecindad = 150"
   ]
  },
  {
   "cell_type": "code",
   "execution_count": 21,
   "id": "a8b7472a-9148-4def-9908-c87d762c2f3e",
   "metadata": {},
   "outputs": [
    {
     "name": "stdout",
     "output_type": "stream",
     "text": [
      "Mejor Solución: [22, 23, 25, 26, 29, 21, 14, 10, 1, 2, 4, 6, 7, 13, 15, 20, 30, 32, 35, 19, 18, 17, 16, 38, 37, 24, 9, 8, 3, 5, 12, 11, 27, 31, 36, 34, 33, 28]\n",
      "Costo de la Mejor Solución: 10379\n",
      "120.75609480001731\n"
     ]
    }
   ],
   "source": [
    "from timeit import default_timer as timer\n",
    "start = timer()\n",
    "sol_lst, scores_lst = tabu_search(iteraciones, permanencia ,tamaño_vecindad,38 )\n",
    "print('Mejor Solución:',sol_lst[np.argmin(scores_lst)])\n",
    "print('Costo de la Mejor Solución:',scores_lst[np.argmin(scores_lst)])\n",
    "stop = timer()\n",
    "execution_time = stop - start\n",
    "print(execution_time)"
   ]
  },
  {
   "cell_type": "code",
   "execution_count": 23,
   "id": "732e5981-b6c4-440c-bc75-b07f6770440b",
   "metadata": {},
   "outputs": [
    {
     "data": {
      "text/plain": [
       "38"
      ]
     },
     "execution_count": 23,
     "metadata": {},
     "output_type": "execute_result"
    }
   ],
   "source": [
    "len(sol_lst[np.argmin(scores_lst)])"
   ]
  },
  {
   "cell_type": "code",
   "execution_count": 27,
   "id": "064a2a55-0414-48b9-9f4f-6ceb5cf9f4bc",
   "metadata": {},
   "outputs": [],
   "source": [
    "import matplotlib.pyplot as plt\n",
    "\n",
    "def plot_route(best_solution):\n",
    "    xs = [problem.node_coords[i][0] for i in best_solution]\n",
    "    ys = [problem.node_coords[i][1] for i in best_solution]\n",
    "    plt.clf()\n",
    "    # 'bo-' means blue color, round points, solid lines\n",
    "    plt.plot(xs,ys,'y--')\n",
    "    plt.title('Mejor Solución Busqueda Tabú')\n",
    "    plt.xlabel('X Coordinates')\n",
    "    plt.ylabel('Y Coordinates')\n",
    "    plt.show()"
   ]
  },
  {
   "cell_type": "code",
   "execution_count": 25,
   "id": "95e23790-ec3d-4c40-9cef-911fc3c0f053",
   "metadata": {},
   "outputs": [],
   "source": [
    "bst_all = sol_lst[np.argmin(scores_lst)]"
   ]
  },
  {
   "cell_type": "code",
   "execution_count": 28,
   "id": "3c42340b-3632-43c3-bc94-bc729527eea0",
   "metadata": {},
   "outputs": [
    {
     "data": {
      "image/png": "[encoded data removed]",
      "text/plain": [
       "<Figure size 640x480 with 1 Axes>"
      ]
     },
     "metadata": {},
     "output_type": "display_data"
    }
   ],
   "source": [
    "plot_route(bst_all)"
   ]
  },
  {
   "cell_type": "code",
   "execution_count": null,
   "id": "2ec1226b-d024-427b-b5f6-ba6a3bd93d34",
   "metadata": {},
   "outputs": [],
   "source": []
  },
  {
   "cell_type": "code",
   "execution_count": null,
   "id": "66f68704-7d92-48d8-a4e0-10eb9758acaf",
   "metadata": {},
   "outputs": [],
   "source": []
  }
 ],
 "metadata": {
  "kernelspec": {
   "display_name": "Python 3 (ipykernel)",
   "language": "python",
   "name": "python3"
  },
  "language_info": {
   "codemirror_mode": {
    "name": "ipython",
    "version": 3
   },
   "file_extension": ".py",
   "mimetype": "text/x-python",
   "name": "python",
   "nbconvert_exporter": "python",
   "pygments_lexer": "ipython3",
   "version": "3.12.7"
  }
 },
 "nbformat": 4,
 "nbformat_minor": 5
}
