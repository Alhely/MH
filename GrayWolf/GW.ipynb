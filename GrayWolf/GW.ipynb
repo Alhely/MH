{
 "cells": [
  {
   "cell_type": "code",
   "execution_count": 1,
   "id": "72e3db37-40b1-45af-b5f0-bf0f98aabab2",
   "metadata": {},
   "outputs": [],
   "source": [
    "import numpy as np\n",
    "tst_f = np.array([11.42368545, 22.63476885, 22.17521801,  4.50729283, 14.24846408,\n",
    "       14.28744834, 10.60382018, 14.14624891, 20.31122888, 12.86736311,\n",
    "       13.92579271, 21.15934331, 13.97226749,  4.4035228 ,  2.48576035,\n",
    "        7.94168744, 12.59814229,  6.32685889,  6.18314607, 21.36243542])"
   ]
  },
  {
   "cell_type": "code",
   "execution_count": 2,
   "id": "21878b4d-cc86-4a40-9a11-071410d1aae9",
   "metadata": {},
   "outputs": [
    {
     "data": {
      "text/plain": [
       "np.float64(22.63476885)"
      ]
     },
     "execution_count": 2,
     "metadata": {},
     "output_type": "execute_result"
    }
   ],
   "source": [
    "tst_f[1]"
   ]
  },
  {
   "cell_type": "code",
   "execution_count": 3,
   "id": "9a04bf38-668c-46ca-8303-47fc7109b63c",
   "metadata": {},
   "outputs": [
    {
     "data": {
      "text/plain": [
       "1"
      ]
     },
     "execution_count": 3,
     "metadata": {},
     "output_type": "execute_result"
    }
   ],
   "source": [
    "int(np.argsort(tst_f)[-1])"
   ]
  },
  {
   "cell_type": "code",
   "execution_count": 2,
   "id": "220b9802-4957-49ce-93b9-b10249d38007",
   "metadata": {},
   "outputs": [],
   "source": [
    "def GW_algorithm(n_wolf, dimension, iterations,  lower_bound, upper_bound, f, task = 'max'):\n",
    "    \n",
    "    ## initialize population\n",
    "    X = np.random.uniform(lower_bound, upper_bound, size = (n_wolf, dimension)) \n",
    "\n",
    "    # calculate fitness value for all wolves\n",
    "\n",
    "    t = 0\n",
    "    while t < iterations:\n",
    "        # find alpha, beta, gamma \n",
    "        F = np.apply_along_axis(f, 1, X)\n",
    "        sorted_idx_asc = np.argsort(F) ## ascending idx order\n",
    "        \n",
    "        if task =='max':\n",
    "            X_alpha = X[int(sorted_idx_asc[-1])]\n",
    "            X_beta = X[int(sorted_idx_asc[-2])]\n",
    "            X_gamma = X[int(sorted_idx_asc[-3])]\n",
    "            best_global_fitness, best_global_x =  F[F.argmax()], X[F.argmax()]\n",
    "        else:\n",
    "            X_alpha = X[int(sorted_idx_asc[0])]\n",
    "            X_beta = X[int(sorted_idx_asc[1])]\n",
    "            X_gamma = X[int(sorted_idx_asc[2])]\n",
    "            best_global_fitness, best_global_x =  F[F.argmin()], X[F.argmin()]\n",
    "            \n",
    "        ####\n",
    "        \n",
    "        a = 2-((2*t)/iterations)\n",
    "        ####\n",
    "        A1 = (2*a*np.random.rand())-a\n",
    "        C1 = 2*np.random.rand()\n",
    "\n",
    "        D_alpha = np.abs(C1*X_alpha - X)\n",
    "        X1 = X_alpha - A1*D_alpha\n",
    "        \n",
    "        #####\n",
    "        A2 = (2*a*np.random.rand())-a\n",
    "        C2 = 2*np.random.rand()   \n",
    "        \n",
    "        D_beta = np.abs(C2*X_beta - X)\n",
    "        X2 = X_beta - A2*D_beta\n",
    "        \n",
    "        ##########\n",
    "        A3 = (2*a*np.random.rand())-a\n",
    "        C3 = 2*np.random.rand()  \n",
    "\n",
    "        D_gamma = np.abs(C3*X_gamma - X)\n",
    "        X3 = X_gamma - A3*D_gamma\n",
    "\n",
    "        ########\n",
    "        NEW_X = (X1 + X2 + X3)/3\n",
    "\n",
    "        ## check if new_x is within boundries\n",
    "        NEW_X = np.where(NEW_X < lower_bound, lower_bound, NEW_X)\n",
    "        NEW_X = np.where(NEW_X > upper_bound, upper_bound, NEW_X)\n",
    "        \n",
    "        ### calculate objective function\n",
    "        NEW_F = np.apply_along_axis(f, 1, NEW_X)\n",
    "        \n",
    "        ## SELECT BEST FOR EACH WOLF\n",
    "        if task =='max':\n",
    "            best_w = np.where(NEW_F>F)[0]\n",
    "            new_best_global_fitness, new_best_global_x =  NEW_F[NEW_F.argmax()], NEW_X[NEW_F.argmax()]\n",
    "            if new_best_global_fitness > best_global_fitness:\n",
    "                best_global_fitness = new_best_global_fitness\n",
    "                best_global_x = new_best_global_x\n",
    "        else:\n",
    "            best_w = np.where(NEW_F<F)[0] \n",
    "            new_best_global_fitness, new_best_global_x =  NEW_F[NEW_F.argmin()], NEW_X[NEW_F.argmin()]\n",
    "            if new_best_global_fitness < best_global_fitness:\n",
    "                best_global_fitness = new_best_global_fitness\n",
    "                best_global_x = new_best_global_x\n",
    "\n",
    "        #update the best position for each\n",
    "        for idx in best_w:\n",
    "            X[idx] = NEW_X[idx]\n",
    "            \n",
    "        t +=1\n",
    "    \n",
    "    return best_global_fitness, best_global_x#, new_best_global_fitness, new_best_global_x"
   ]
  },
  {
   "cell_type": "code",
   "execution_count": 6,
   "id": "bc1ad7bc-4bfa-49e4-9c15-ce55bb4133d5",
   "metadata": {},
   "outputs": [
    {
     "data": {
      "text/plain": [
       "0.0"
      ]
     },
     "execution_count": 6,
     "metadata": {},
     "output_type": "execute_result"
    }
   ],
   "source": [
    "def beale(X):\n",
    "    return ((1.5 - X[0] + (X[0]*X[1]))**2)  + ((2.25 - X[0]+(X[0]*(X[1]**2)))**2)+ ((2.625-X[0]+(X[0]*(X[1]**3)))**2)\n",
    "\n",
    "## valor optimo 3,.5, f = 0\n",
    "beale([3, 0.5])"
   ]
  },
  {
   "cell_type": "code",
   "execution_count": 7,
   "id": "b44fad54-1d44-4033-9b23-ba9cd2558191",
   "metadata": {},
   "outputs": [],
   "source": [
    "from timeit import default_timer as timer"
   ]
  },
  {
   "cell_type": "code",
   "execution_count": 8,
   "id": "cd570199-ad49-427c-9e4c-96b7c1c6d569",
   "metadata": {},
   "outputs": [
    {
     "name": "stdout",
     "output_type": "stream",
     "text": [
      "(np.float64(6.650130478702848e-06), array([3.00186242, 0.50097472]))\n",
      "0.1893622999996296\n"
     ]
    }
   ],
   "source": [
    "start = timer()\n",
    "#GW_algorithm(n_wolf, dimension, iterations,  lower_bound, upper_bound, f, task = 'max')\n",
    "print(GW_algorithm(100, 2, 100, -100,100, beale, task = 'min'))\n",
    "stop = timer()\n",
    "execution_time = stop - start\n",
    "print(execution_time)"
   ]
  },
  {
   "cell_type": "code",
   "execution_count": 23,
   "id": "88695ff8-3c3e-467c-8b1e-332aa4c11d15",
   "metadata": {},
   "outputs": [],
   "source": [
    "def McCormick(X):\n",
    "    return np.sin(X[0]+X[1]) + (X[0]-X[1])**2 - 1.5 * X[0] + 2.5 *X[1]+1"
   ]
  },
  {
   "cell_type": "code",
   "execution_count": 24,
   "id": "6ee3f4c4-6e07-4530-9b55-0928431399a4",
   "metadata": {},
   "outputs": [
    {
     "data": {
      "text/plain": [
       "np.float64(-1.913222954882274)"
      ]
     },
     "execution_count": 24,
     "metadata": {},
     "output_type": "execute_result"
    }
   ],
   "source": [
    "McCormick([-0.54719,-1.54719])"
   ]
  },
  {
   "cell_type": "code",
   "execution_count": 25,
   "id": "dd4810a6-195c-4b6a-9986-5b5dc0f05ed2",
   "metadata": {},
   "outputs": [
    {
     "name": "stdout",
     "output_type": "stream",
     "text": [
      "(np.float64(-1.810792138699874), array([-2.65152088, -3.        ]))\n",
      "0.21359079999820096\n"
     ]
    }
   ],
   "source": [
    "start = timer()\n",
    "#GW_algorithm(n_wolf, dimension, iterations,  lower_bound, upper_bound, f, task = 'max')\n",
    "\n",
    "print(GW_algorithm(100, 2, 100 ,-3, 4, McCormick, task = 'min'))\n",
    "\n",
    "stop = timer()\n",
    "execution_time = stop - start\n",
    "print(execution_time)"
   ]
  },
  {
   "cell_type": "code",
   "execution_count": 26,
   "id": "b965a43d-2f8f-474b-98a6-5fe8ed2d706a",
   "metadata": {},
   "outputs": [],
   "source": [
    "def himm(X):\n",
    "    return ((X[0]**2+X[1]-11)**2) + ((X[0]+(X[1]**2)-7)**2 )"
   ]
  },
  {
   "cell_type": "code",
   "execution_count": 27,
   "id": "df36d25f-3626-47ed-a5fc-cd843549009d",
   "metadata": {},
   "outputs": [
    {
     "data": {
      "text/plain": [
       "181.61652152257642"
      ]
     },
     "execution_count": 27,
     "metadata": {},
     "output_type": "execute_result"
    }
   ],
   "source": [
    "himm([-0.270845,-0.923039])"
   ]
  },
  {
   "cell_type": "code",
   "execution_count": 29,
   "id": "c84cf980-892b-4a99-80b2-3c8a69a47d72",
   "metadata": {},
   "outputs": [
    {
     "name": "stdout",
     "output_type": "stream",
     "text": [
      "(np.float64(181.61555284086035), array([-0.26473456, -0.92909911]))\n",
      "0.15996850000374252\n"
     ]
    }
   ],
   "source": [
    "start = timer()\n",
    "#GW_algorithm(n_wolf, dimension, iterations,  lower_bound, upper_bound, f, task = 'max')\n",
    "\n",
    "print(GW_algorithm(100, 2, 100 ,-1, 1, himm, task = 'max'))\n",
    "\n",
    "stop = timer()\n",
    "execution_time = stop - start\n",
    "print(execution_time)"
   ]
  },
  {
   "cell_type": "code",
   "execution_count": null,
   "id": "1b3e020b-2d52-4204-acdc-4f2e1b8f5e92",
   "metadata": {},
   "outputs": [],
   "source": []
  }
 ],
 "metadata": {
  "kernelspec": {
   "display_name": "Python 3 (ipykernel)",
   "language": "python",
   "name": "python3"
  },
  "language_info": {
   "codemirror_mode": {
    "name": "ipython",
    "version": 3
   },
   "file_extension": ".py",
   "mimetype": "text/x-python",
   "name": "python",
   "nbconvert_exporter": "python",
   "pygments_lexer": "ipython3",
   "version": "3.12.7"
  }
 },
 "nbformat": 4,
 "nbformat_minor": 5
}
