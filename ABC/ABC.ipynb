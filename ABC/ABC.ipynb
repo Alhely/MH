{
 "cells": [
  {
   "cell_type": "code",
   "execution_count": 26,
   "id": "9af214d9-1bd4-4c5d-a2dd-aa4fa4090c92",
   "metadata": {},
   "outputs": [],
   "source": [
    "import numpy as np\n",
    "import warnings\n",
    "warnings.filterwarnings('ignore')"
   ]
  },
  {
   "cell_type": "code",
   "execution_count": 102,
   "id": "73b0548e-d211-4777-b145-f66208d3649c",
   "metadata": {},
   "outputs": [],
   "source": [
    "import numpy as np\n",
    "\n",
    "def abc_algorithm(num_employed, num_onlooker, num_scout, iterations, dimension,\n",
    "                  lower_bound, upper_bound, f, task='min'):\n",
    "    \n",
    "    def safe_eval(x):\n",
    "        \"\"\"Ensures the output of f(x) is a scalar float.\"\"\"\n",
    "        result = f(x)\n",
    "        if isinstance(result, (tuple, list, np.ndarray)):\n",
    "            return float(result[0])\n",
    "        return float(result)\n",
    "\n",
    "    def calculate_fitness(values):\n",
    "        \"\"\"Convert raw objective values into fitness values.\"\"\"\n",
    "        values = np.array(values)\n",
    "        if task == 'max':\n",
    "            return 1 / (1 + np.max(values) - values)\n",
    "        else:\n",
    "            return 1 / (1 + np.clip(values, 0, None))  # prevent negative/zero division\n",
    "\n",
    "    # Initialization\n",
    "    total_bees = num_employed + num_onlooker + num_scout\n",
    "    population = np.random.uniform(lower_bound, upper_bound, size=(total_bees, dimension))\n",
    "    fitness_values = np.array([safe_eval(ind) for ind in population])\n",
    "    fitness = calculate_fitness(fitness_values)\n",
    "    trials = np.zeros(total_bees)\n",
    "\n",
    "    # Best solution so far\n",
    "    best_idx = np.argmax(fitness) if task == 'max' else np.argmin(fitness_values)\n",
    "    best_solution = population[best_idx].copy()\n",
    "    best_value = fitness_values[best_idx]\n",
    "\n",
    "    for _ in range(iterations):\n",
    "        # === Employed Bee Phase ===\n",
    "        for i in range(num_employed):\n",
    "            k = np.random.randint(total_bees)\n",
    "            while k == i:\n",
    "                k = np.random.randint(total_bees)\n",
    "            phi = np.random.uniform(-1, 1, size=dimension)\n",
    "            candidate = np.clip(population[i] + phi * (population[i] - population[k]), lower_bound, upper_bound)\n",
    "            candidate_value = safe_eval(candidate)\n",
    "\n",
    "            if (task == 'max' and candidate_value > fitness_values[i]) or (task == 'min' and candidate_value < fitness_values[i]):\n",
    "                population[i] = candidate\n",
    "                fitness_values[i] = candidate_value\n",
    "                fitness[i] = calculate_fitness([candidate_value])[0]\n",
    "                trials[i] = 0\n",
    "            else:\n",
    "                trials[i] += 1\n",
    "\n",
    "        # === Onlooker Bee Phase ===\n",
    "        prob = fitness[:num_employed]\n",
    "        prob_sum = np.sum(prob)\n",
    "        prob = prob / prob_sum if prob_sum > 0 else np.ones(num_employed) / num_employed\n",
    "\n",
    "        for _ in range(num_onlooker):\n",
    "            i = np.random.choice(num_employed, p=prob)\n",
    "            k = np.random.randint(total_bees)\n",
    "            while k == i:\n",
    "                k = np.random.randint(total_bees)\n",
    "            phi = np.random.uniform(-1, 1, size=dimension)\n",
    "            candidate = np.clip(population[i] + phi * (population[i] - population[k]), lower_bound, upper_bound)\n",
    "            candidate_value = safe_eval(candidate)\n",
    "\n",
    "            if (task == 'max' and candidate_value > fitness_values[i]) or (task == 'min' and candidate_value < fitness_values[i]):\n",
    "                population[i] = candidate\n",
    "                fitness_values[i] = candidate_value\n",
    "                fitness[i] = calculate_fitness([candidate_value])[0]\n",
    "                trials[i] = 0\n",
    "            else:\n",
    "                trials[i] += 1\n",
    "\n",
    "        # === Scout Bee Phase ===\n",
    "        limit = iterations / 2\n",
    "        for i in range(total_bees):\n",
    "            if trials[i] > limit:\n",
    "                population[i] = np.random.uniform(lower_bound, upper_bound, size=dimension)\n",
    "                fitness_values[i] = safe_eval(population[i])\n",
    "                fitness[i] = calculate_fitness([fitness_values[i]])[0]\n",
    "                trials[i] = 0\n",
    "\n",
    "        # === Update Best ===\n",
    "        best_idx = np.argmax(fitness) if task == 'max' else np.argmin(fitness_values)\n",
    "        if (task == 'max' and fitness_values[best_idx] > best_value) or (task == 'min' and fitness_values[best_idx] < best_value):\n",
    "            best_solution = population[best_idx].copy()\n",
    "            best_value = fitness_values[best_idx]\n",
    "\n",
    "    return best_solution, best_value\n"
   ]
  },
  {
   "cell_type": "code",
   "execution_count": 103,
   "id": "0208b75e-dcc1-4055-9f2c-5a086f8ec26b",
   "metadata": {},
   "outputs": [
    {
     "data": {
      "text/plain": [
       "0.0"
      ]
     },
     "execution_count": 103,
     "metadata": {},
     "output_type": "execute_result"
    }
   ],
   "source": [
    "def beale(X):\n",
    "    return ((1.5 - X[0] + (X[0]*X[1]))**2)  + ((2.25 - X[0]+(X[0]*(X[1]**2)))**2)+ ((2.625-X[0]+(X[0]*(X[1]**3)))**2)\n",
    "\n",
    "## valor optimo 3,.5, f = 0\n",
    "beale([3, 0.5])"
   ]
  },
  {
   "cell_type": "code",
   "execution_count": 104,
   "id": "6ca8ad01-0eb9-49f2-8edd-8fd2f475f2a4",
   "metadata": {},
   "outputs": [],
   "source": [
    "from timeit import default_timer as timer"
   ]
  },
  {
   "cell_type": "code",
   "execution_count": 105,
   "id": "84e84c68-cae9-40d7-ab2f-caf9df52f1f2",
   "metadata": {},
   "outputs": [
    {
     "name": "stdout",
     "output_type": "stream",
     "text": [
      "(array([3.00906837, 0.50208035]), np.float64(1.362779970686686e-05))\n",
      "3.7928364999970654\n"
     ]
    }
   ],
   "source": [
    "start = timer()\n",
    "# num_employed, num_onlooker, num_scout, iterations, dimension, lower_bound, upper_bound, f, task='min'\n",
    "print(abc_algorithm(150, 150, 150, 150,2, -100, 100, beale, task='min'))\n",
    "stop = timer()\n",
    "execution_time = stop - start\n",
    "print(execution_time)"
   ]
  },
  {
   "cell_type": "code",
   "execution_count": 106,
   "id": "1a73cfd5-7d4c-4f16-b032-d93b8179f63e",
   "metadata": {},
   "outputs": [],
   "source": [
    "def McCormick(X):\n",
    "    return np.sin(X[0]+X[1]) + (X[0]-X[1])**2 - 1.5 * X[0] + 2.5 * X[1] + 1"
   ]
  },
  {
   "cell_type": "code",
   "execution_count": 107,
   "id": "62f435bf-da2d-4918-ac09-004728126f38",
   "metadata": {},
   "outputs": [
    {
     "data": {
      "text/plain": [
       "np.float64(-1.913222954882274)"
      ]
     },
     "execution_count": 107,
     "metadata": {},
     "output_type": "execute_result"
    }
   ],
   "source": [
    "McCormick([-0.54719,-1.54719])"
   ]
  },
  {
   "cell_type": "code",
   "execution_count": 108,
   "id": "270d19f2-3a69-4f99-bf1b-8259052e43c6",
   "metadata": {},
   "outputs": [
    {
     "name": "stdout",
     "output_type": "stream",
     "text": [
      "(array([-0.54719622, -1.54719722]), np.float64(-1.9132229549788335))\n",
      "3.470028199997614\n"
     ]
    }
   ],
   "source": [
    "start = timer()\n",
    "print(abc_algorithm(100, 150, 150, 150,2, -3, 4, McCormick, task='min'))\n",
    "stop = timer()\n",
    "execution_time = stop - start\n",
    "print(execution_time)"
   ]
  },
  {
   "cell_type": "code",
   "execution_count": 109,
   "id": "4af903df-5db7-4092-ad1e-abf2c3303345",
   "metadata": {},
   "outputs": [
    {
     "data": {
      "text/plain": [
       "181.61652152257642"
      ]
     },
     "execution_count": 109,
     "metadata": {},
     "output_type": "execute_result"
    }
   ],
   "source": [
    "def himm(X):\n",
    "    return ((X[0]**2+X[1]-11)**2) + ((X[0]+(X[1]**2)-7)**2 )\n",
    "himm([-0.270845,-0.923039])"
   ]
  },
  {
   "cell_type": "code",
   "execution_count": 111,
   "id": "443646f5-1029-4b91-9360-5c7deb23eb41",
   "metadata": {},
   "outputs": [
    {
     "name": "stdout",
     "output_type": "stream",
     "text": [
      "(array([-0.27084462, -0.9230386 ]), np.float64(181.61652152258267))\n",
      "3.5402315000028466\n"
     ]
    }
   ],
   "source": [
    "start = timer()\n",
    "# num_employed, num_onlooker, num_scout, iterations, dimension, lower_bound, upper_bound, f, task='min'\n",
    "print(abc_algorithm(150, 150, 150, 150,2, -1, 1, himm, task='max'))\n",
    "stop = timer()\n",
    "execution_time = stop - start\n",
    "print(execution_time)"
   ]
  },
  {
   "cell_type": "code",
   "execution_count": null,
   "id": "10e143bd-20c1-45a8-bb9d-8d23f8b353cd",
   "metadata": {},
   "outputs": [],
   "source": []
  }
 ],
 "metadata": {
  "kernelspec": {
   "display_name": "Python 3 (ipykernel)",
   "language": "python",
   "name": "python3"
  },
  "language_info": {
   "codemirror_mode": {
    "name": "ipython",
    "version": 3
   },
   "file_extension": ".py",
   "mimetype": "text/x-python",
   "name": "python",
   "nbconvert_exporter": "python",
   "pygments_lexer": "ipython3",
   "version": "3.12.7"
  }
 },
 "nbformat": 4,
 "nbformat_minor": 5
}
