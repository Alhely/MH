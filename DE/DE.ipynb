{
 "cells": [
  {
   "cell_type": "code",
   "execution_count": 1,
   "id": "e420c53e-c437-400a-a272-fc7b308bd6f7",
   "metadata": {},
   "outputs": [],
   "source": [
    "import numpy as np\n",
    "import math"
   ]
  },
  {
   "cell_type": "code",
   "execution_count": 24,
   "id": "67b9d372-f261-4cf1-a6ce-979cb33d0bee",
   "metadata": {},
   "outputs": [],
   "source": [
    "def de_algorithm(pop_size, dimension, iterations, F, pc , lower_bound, upper_bound, f, task):\n",
    "    \n",
    "    ## initialize population\n",
    "    population = np.random.uniform(lower_bound, upper_bound, size = (pop_size, dimension)) \n",
    "    fitness = np.apply_along_axis(f, 1, population)\n",
    "\n",
    "    t = 0\n",
    "    while t < iterations:\n",
    "        if task =='max':\n",
    "            best_idx = np.argmax(fitness)\n",
    "            worst_idx = np.argmin(fitness)\n",
    "        else:\n",
    "            best_idx = np.argmin(fitness)\n",
    "            worst_idx = np.argmax(fitness)\n",
    "\n",
    "        for i in range(pop_size):\n",
    "            delta = np.random.randint(0, dimension)\n",
    "            r1, r2, r3 = np.random.randint(0, pop_size), np.random.randint(0, pop_size), np.random.randint(0, pop_size)\n",
    "            while (r1 == r2 == r3 == i):\n",
    "                r1, r2, r3 = np.random.randint(0, pop_size), np.random.randint(0, pop_size), np.random.randint(0, pop_size)\n",
    "\n",
    "            donor = population[r1] + F *(population[r2]-population[r3])\n",
    "            #recombination\n",
    "            u = np.zeros(dimension)\n",
    "            for k in range(dimension):\n",
    "                r = np.random.rand()\n",
    "                \n",
    "                v = donor[k]\n",
    "                x =  population[i][k]\n",
    "                if ((r <= pc) or (k == delta)):\n",
    "                    u[k] =  v\n",
    "                elif ((r > pc) and (k != delta)):\n",
    "                     u[k] = x\n",
    "                    \n",
    "            u = np.clip(u , lower_bound, upper_bound)\n",
    "            new_fitness = f(u)\n",
    "\n",
    "            if task =='max':\n",
    "                if new_fitness > fitness[i]:\n",
    "                    population[i] = u\n",
    "                    fitness[i] = new_fitness\n",
    "            else:\n",
    "                if new_fitness < fitness[i]:\n",
    "                    population[i] = u\n",
    "                    fitness[i] = new_fitness\n",
    "\n",
    "        t +=1\n",
    "    \n",
    "    return fitness[best_idx], population[best_idx]"
   ]
  },
  {
   "cell_type": "code",
   "execution_count": 25,
   "id": "d8d99f9e-d599-488f-b7e6-e1cbc2f9dd8f",
   "metadata": {},
   "outputs": [],
   "source": [
    "def beale(X):\n",
    "    return ((1.5 - X[0] + (X[0]*X[1]))**2)  + ((2.25 - X[0]+(X[0]*(X[1]**2)))**2)+ ((2.625-X[0]+(X[0]*(X[1]**3)))**2)\n",
    "\n",
    "## valor optimo 3,.5, f = 0"
   ]
  },
  {
   "cell_type": "code",
   "execution_count": 26,
   "id": "8077bcfe-1081-47dd-90ba-9230dd9c751b",
   "metadata": {},
   "outputs": [],
   "source": [
    "from timeit import default_timer as timer"
   ]
  },
  {
   "cell_type": "code",
   "execution_count": 27,
   "id": "7a689846-7605-461d-b546-640cf020f9ae",
   "metadata": {},
   "outputs": [
    {
     "name": "stdout",
     "output_type": "stream",
     "text": [
      "(np.float64(2.9655370350463476e-09), array([3.00001015, 0.50001382]))\n",
      "0.19307379995007068\n"
     ]
    }
   ],
   "source": [
    "# de_algorithm(pop_size, dimension, iterations, F, pc , lower_bound, upper_bound, f, task):\n",
    "start = timer()\n",
    "print(de_algorithm(100, 2, 100, 1, 0.9 , -100, 100, beale, 'min'))\n",
    "stop = timer()\n",
    "execution_time = stop - start\n",
    "print(execution_time)"
   ]
  },
  {
   "cell_type": "code",
   "execution_count": 28,
   "id": "9154efc3-01d4-46b2-9712-c03a47d99128",
   "metadata": {},
   "outputs": [],
   "source": [
    "def McCormick(X):\n",
    "    return np.sin(X[0]+X[1]) + (X[0]-X[1])**2 - 1.5 * X[0] + 2.5 * X[1] + 1"
   ]
  },
  {
   "cell_type": "code",
   "execution_count": 42,
   "id": "05b19483-aeb8-466f-a3fc-2a777e3074ed",
   "metadata": {},
   "outputs": [
    {
     "name": "stdout",
     "output_type": "stream",
     "text": [
      "(np.float64(-1.9132229549810367), array([-0.54719756, -1.54719755]))\n",
      "0.18310649995692074\n"
     ]
    }
   ],
   "source": [
    "start = timer()\n",
    "print(de_algorithm(100, 2, 100, 1, 0.9 , -3, 4, McCormick, 'min'))\n",
    "stop = timer()\n",
    "execution_time = stop - start\n",
    "print(execution_time)"
   ]
  },
  {
   "cell_type": "code",
   "execution_count": 37,
   "id": "a59392ee-27c1-40a7-ad2c-abf1ecfd54b1",
   "metadata": {},
   "outputs": [],
   "source": [
    "def himm(X):\n",
    "    return ((X[0]**2+X[1]-11)**2) + ((X[0]+(X[1]**2)-7)**2 )"
   ]
  },
  {
   "cell_type": "code",
   "execution_count": 38,
   "id": "57a123dd-cda3-4c44-8003-d8e31ebf1993",
   "metadata": {},
   "outputs": [
    {
     "data": {
      "text/plain": [
       "181.61652152257642"
      ]
     },
     "execution_count": 38,
     "metadata": {},
     "output_type": "execute_result"
    }
   ],
   "source": [
    "himm([-0.270845,-0.923039])"
   ]
  },
  {
   "cell_type": "code",
   "execution_count": 39,
   "id": "3989b07e-b5f0-40c8-bd8d-fc21ed0a161d",
   "metadata": {},
   "outputs": [
    {
     "name": "stdout",
     "output_type": "stream",
     "text": [
      "(np.float64(181.61652152258273), array([-0.27084459, -0.92303861]))\n",
      "0.18790639995131642\n"
     ]
    }
   ],
   "source": [
    "start = timer()\n",
    "print(de_algorithm(100, 2, 100, 1, 0.9 , -1, 1, himm, 'max'))\n",
    "stop = timer()\n",
    "execution_time = stop - start\n",
    "print(execution_time)"
   ]
  },
  {
   "cell_type": "code",
   "execution_count": null,
   "id": "5bc4e134-7f8b-4d33-ba87-13301e4d9c30",
   "metadata": {},
   "outputs": [],
   "source": []
  }
 ],
 "metadata": {
  "kernelspec": {
   "display_name": "Python 3 (ipykernel)",
   "language": "python",
   "name": "python3"
  },
  "language_info": {
   "codemirror_mode": {
    "name": "ipython",
    "version": 3
   },
   "file_extension": ".py",
   "mimetype": "text/x-python",
   "name": "python",
   "nbconvert_exporter": "python",
   "pygments_lexer": "ipython3",
   "version": "3.12.7"
  }
 },
 "nbformat": 4,
 "nbformat_minor": 5
}
