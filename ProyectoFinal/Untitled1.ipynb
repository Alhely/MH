{
 "cells": [
  {
   "cell_type": "code",
   "execution_count": 1,
   "id": "da5b4af1-27ed-4f2f-99b9-7a033e4fb24d",
   "metadata": {},
   "outputs": [],
   "source": [
    "import numpy as np\n",
    "\n",
    "def evaluate_solution(route_perm, distances, demands_ton, capacity=15):\n",
    "    \"\"\"\n",
    "    Evalúa una permutación de ubicaciones (1..n) devolviendo la distancia total\n",
    "    y la lista de sub-rutas (cada una inicia y termina en 0).\n",
    "    - distances: matriz 58x58 de distancias (0 = depósito, 1-57 ubicaciones).\n",
    "    - demands_ton: vector de demanda (57,) en toneladas.\n",
    "    - capacity: capacidad del camión (15 t).\n",
    "    \"\"\"\n",
    "    total_dist = 0.0\n",
    "    routes = []\n",
    "    current_demand = 0.0\n",
    "    current_route = [0]   # iniciamos en el depósito\n",
    "    current_node = 0\n",
    "    \n",
    "    for loc in route_perm:\n",
    "        demand = demands_ton[loc - 1]  # índice 0->ubicación 1\n",
    "        # Si cabe la demanda en la carga actual:\n",
    "        if current_demand + demand <= capacity:\n",
    "            total_dist += distances[current_node, loc]\n",
    "            current_route.append(loc)\n",
    "            current_demand += demand\n",
    "            current_node = loc\n",
    "        else:\n",
    "            # Volver al depósito y cerrar ruta\n",
    "            total_dist += distances[current_node, 0]\n",
    "            current_route.append(0)\n",
    "            routes.append(current_route)\n",
    "            \n",
    "            # Iniciar nueva ruta desde el depósito\n",
    "            current_route = [0]\n",
    "            current_demand = demand\n",
    "            total_dist += distances[0, loc]\n",
    "            current_route.append(loc)\n",
    "            current_node = loc\n",
    "    \n",
    "    # Cerrar la última ruta volviendo al depósito\n",
    "    total_dist += distances[current_node, 0]\n",
    "    current_route.append(0)\n",
    "    routes.append(current_route)\n",
    "    return total_dist, routes\n"
   ]
  },
  {
   "cell_type": "code",
   "execution_count": 12,
   "id": "c2780b74-e83b-4894-bac3-46be06e7e296",
   "metadata": {},
   "outputs": [],
   "source": [
    "def decode_permutation(keys):\n",
    "    \"\"\"Convierte un array de claves (random-key) en una permutación 1..n.\"\"\"\n",
    "    idx = np.argsort(keys)\n",
    "    # Sumamos 1 para mapear de 0-based a nodos 1..n\n",
    "    perm = [i+1 for i in idx]  \n",
    "    return perm\n"
   ]
  },
  {
   "cell_type": "code",
   "execution_count": 22,
   "id": "6ea8c079-abea-42f7-ad0d-973f1c0fcccb",
   "metadata": {},
   "outputs": [],
   "source": [
    "def evaluar_ruta(ruta, dist_matrix):\n",
    "    # distancia desde depósito (índice 0) hasta primer cliente\n",
    "    coste = dist_matrix[0, ruta[0]]  \n",
    "    # distancia entre clientes consecutivos\n",
    "    for i in range(len(ruta)-1):\n",
    "        coste += dist_matrix[ruta[i], ruta[i+1]]\n",
    "    # distancia desde último cliente de vuelta al depósito\n",
    "    coste += dist_matrix[ruta[-1], 0]\n",
    "    return coste\n"
   ]
  },
  {
   "cell_type": "code",
   "execution_count": 2,
   "id": "cbc48e31-589d-46a4-adeb-37ad9766b2cb",
   "metadata": {},
   "outputs": [],
   "source": [
    "# jaya\n",
    "import random\n",
    "\n",
    "def jaya_vrp(distances, demands_ton, pop_size=30, max_iter=1000):\n",
    "    \"\"\"\n",
    "    Implementación del algoritmo Jaya para VRP usando codificación random-key.\n",
    "    Retorna la mejor ruta (lista de sub-rutas) y la distancia total.\n",
    "    \"\"\"\n",
    "    n = demands_ton.shape[0]  # 57 ubicaciones\n",
    "    # Inicializar población de claves aleatorias\n",
    "    population = np.random.rand(pop_size, n)\n",
    "    distances_pop = np.zeros(pop_size)\n",
    "    # Evaluar población inicial\n",
    "    for i in range(pop_size):\n",
    "        perm = decode_permutation(population[i])\n",
    "        distances_pop[i], _ = evaluate_solution(perm, distances, demands_ton)\n",
    "    # Identificar mejor y peor\n",
    "    best_idx = np.argmin(distances_pop)\n",
    "    worst_idx = np.argmax(distances_pop)\n",
    "    best_dist = distances_pop[best_idx]\n",
    "    best_keys = population[best_idx].copy()\n",
    "    \n",
    "    # Iteraciones del algoritmo\n",
    "    for it in range(max_iter):\n",
    "        for i in range(pop_size):\n",
    "            X = population[i]\n",
    "            new_X = np.zeros(n)\n",
    "            # Actualizar cada clave de la solución i\n",
    "            for j in range(n):\n",
    "                r1 = random.random()\n",
    "                r2 = random.random()\n",
    "                Xb = best_keys[j]\n",
    "                Xw = population[worst_idx][j]\n",
    "                new_X[j] = X[j] + r1*(Xb - abs(X[j])) - r2*(Xw - abs(X[j]))\n",
    "            # Evaluar solución nueva\n",
    "            perm_new = decode_permutation(new_X)\n",
    "            new_dist, _ = evaluate_solution(perm_new, distances, demands_ton)\n",
    "            if new_dist < distances_pop[i]:\n",
    "                # Reemplazar si es mejor\n",
    "                population[i] = new_X\n",
    "                distances_pop[i] = new_dist\n",
    "        # Actualizar mejor y peor de la población\n",
    "        best_idx = np.argmin(distances_pop)\n",
    "        worst_idx = np.argmax(distances_pop)\n",
    "        if distances_pop[best_idx] < best_dist:\n",
    "            best_dist = distances_pop[best_idx]\n",
    "            best_keys = population[best_idx].copy()\n",
    "    # Decodificar y devolver la mejor ruta encontrada\n",
    "    best_perm = decode_permutation(best_keys)\n",
    "    best_distance, best_routes = evaluate_solution(best_perm, distances, demands_ton)\n",
    "    return best_routes, best_distance\n"
   ]
  },
  {
   "cell_type": "code",
   "execution_count": 3,
   "id": "feb7cdb3-0c8d-4449-a78c-b5c79bc354f4",
   "metadata": {},
   "outputs": [],
   "source": [
    "# Lobo gris\n",
    "def gwo_vrp(distances, demands_ton, n_wolves=20, max_iter=500):\n",
    "    \"\"\"\n",
    "    Grey Wolf Optimizer adaptado al VRP con codificación random-key.\n",
    "    Retorna la mejor ruta y distancia.\n",
    "    \"\"\"\n",
    "    n = demands_ton.shape[0]\n",
    "    # Población inicial de lobos (claves aleatorias)\n",
    "    wolves = np.random.rand(n_wolves, n)\n",
    "    fitness = np.zeros(n_wolves)\n",
    "    for i in range(n_wolves):\n",
    "        perm = decode_permutation(wolves[i])\n",
    "        fitness[i], _ = evaluate_solution(perm, distances, demands_ton)\n",
    "    # Ordenar lobos por fitness (menor distancia es mejor)\n",
    "    sorted_idx = np.argsort(fitness)\n",
    "    wolves, fitness = wolves[sorted_idx], fitness[sorted_idx]\n",
    "    # Definir alpha, beta, delta iniciales\n",
    "    alpha = wolves[0].copy()\n",
    "    beta  = wolves[1].copy()\n",
    "    delta = wolves[2].copy()\n",
    "    \n",
    "    for t in range(max_iter):\n",
    "        # Factor de exploración a decrece de 2 a 0\n",
    "        a = 2 - (2 * t / max_iter)\n",
    "        for i in range(n_wolves):\n",
    "            X = wolves[i]\n",
    "            X1 = np.zeros(n); X2 = np.zeros(n); X3 = np.zeros(n)\n",
    "            # Calcular nuevas posiciones influenciadas por α, β, δ\n",
    "            for j in range(n):\n",
    "                r1, r2 = random.random(), random.random()\n",
    "                A1 = 2*a*r1 - a; C1 = 2*r2\n",
    "                X1[j] = alpha[j] - A1 * abs(C1*alpha[j] - X[j])\n",
    "                \n",
    "                r1, r2 = random.random(), random.random()\n",
    "                A2 = 2*a*r1 - a; C2 = 2*r2\n",
    "                X2[j] = beta[j]  - A2 * abs(C2*beta[j]  - X[j])\n",
    "                \n",
    "                r1, r2 = random.random(), random.random()\n",
    "                A3 = 2*a*r1 - a; C3 = 2*r2\n",
    "                X3[j] = delta[j] - A3 * abs(C3*delta[j] - X[j])\n",
    "            # Promedio de las tres influencias\n",
    "            wolves[i] = (X1 + X2 + X3) / 3\n",
    "        # Evaluar nueva población\n",
    "        for i in range(n_wolves):\n",
    "            perm = decode_permutation(wolves[i])\n",
    "            fitness[i], _ = evaluate_solution(perm, distances, demands_ton)\n",
    "        # Reordenar y actualizar α, β, δ\n",
    "        sorted_idx = np.argsort(fitness)\n",
    "        wolves, fitness = wolves[sorted_idx], fitness[sorted_idx]\n",
    "        alpha, beta, delta = wolves[0].copy(), wolves[1].copy(), wolves[2].copy()\n",
    "    # Decodificar la mejor solución (alpha)\n",
    "    best_perm = decode_permutation(alpha)\n",
    "    best_distance, best_routes = evaluate_solution(best_perm, distances, demands_ton)\n",
    "    return best_routes, best_distance\n"
   ]
  },
  {
   "cell_type": "code",
   "execution_count": 4,
   "id": "d41f7f40-50c1-443f-a742-3e83485f83f6",
   "metadata": {},
   "outputs": [],
   "source": [
    "#RS\n",
    "import math\n",
    "\n",
    "def simulated_annealing_vrp(distances, demands_ton, initial_temp=1000, cooling_rate=0.995, n_iter=10000):\n",
    "    \"\"\"\n",
    "    Recocido Simulado para VRP. Retorna la mejor ruta y distancia encontrados.\n",
    "    \"\"\"\n",
    "    n = demands_ton.shape[0]\n",
    "    # Solución inicial: permutación aleatoria\n",
    "    current_perm = list(range(1, n+1))\n",
    "    random.shuffle(current_perm)\n",
    "    current_dist, _ = evaluate_solution(current_perm, distances, demands_ton)\n",
    "    best_perm = current_perm.copy()\n",
    "    best_dist = current_dist\n",
    "    T = initial_temp\n",
    "    \n",
    "    for it in range(n_iter):\n",
    "        # Vecino: intercambiar dos posiciones aleatorias\n",
    "        i, j = random.sample(range(n), 2)\n",
    "        neighbor = current_perm.copy()\n",
    "        neighbor[i], neighbor[j] = neighbor[j], neighbor[i]\n",
    "        new_dist, _ = evaluate_solution(neighbor, distances, demands_ton)\n",
    "        \n",
    "        # Criterio de aceptación\n",
    "        if new_dist < current_dist or random.random() < math.exp((current_dist - new_dist) / T):\n",
    "            current_perm = neighbor\n",
    "            current_dist = new_dist\n",
    "            if new_dist < best_dist:\n",
    "                best_perm = neighbor.copy()\n",
    "                best_dist = new_dist\n",
    "        # Enfriar temperatura\n",
    "        T *= cooling_rate\n",
    "        if T < 1e-6:\n",
    "            break\n",
    "    \n",
    "    # Decodificar y devolver la mejor solución\n",
    "    best_distance, best_routes = evaluate_solution(best_perm, distances, demands_ton)\n",
    "    return best_routes, best_distance\n"
   ]
  },
  {
   "cell_type": "code",
   "execution_count": 14,
   "id": "a38c4107-bbcc-4e2c-a8ad-59a6027b9416",
   "metadata": {},
   "outputs": [
    {
     "data": {
      "text/plain": [
       "array([[0.        , 7.81255656, 7.9878503 , ..., 8.59298465, 8.42261352,\n",
       "        9.49975125],\n",
       "       [7.81255656, 0.        , 1.14852203, ..., 5.63736563, 4.24942668,\n",
       "        4.4692347 ],\n",
       "       [7.9878503 , 1.14852203, 0.        , ..., 6.77704361, 5.39714432,\n",
       "        5.59696149],\n",
       "       ...,\n",
       "       [8.59298465, 5.63736563, 6.77704361, ..., 0.        , 1.46220377,\n",
       "        2.10133471],\n",
       "       [8.42261352, 4.24942668, 5.39714432, ..., 1.46220377, 0.        ,\n",
       "        1.13299771],\n",
       "       [9.49975125, 4.4692347 , 5.59696149, ..., 2.10133471, 1.13299771,\n",
       "        0.        ]])"
      ]
     },
     "execution_count": 14,
     "metadata": {},
     "output_type": "execute_result"
    }
   ],
   "source": [
    "import numpy as np\n",
    "distances = np.load('matriz_distancias.npy' ) # incluye el nodo 0\n",
    "distances"
   ]
  },
  {
   "cell_type": "code",
   "execution_count": 15,
   "id": "0a0b858f-438d-4903-8995-4b447e7385ab",
   "metadata": {},
   "outputs": [
    {
     "data": {
      "text/plain": [
       "array([2, 2, 2, 1, 2, 2, 2, 2, 2, 2, 2, 2, 2, 2, 2, 2, 2, 4, 2, 2, 2, 2,\n",
       "       2, 2, 2, 2, 2, 2, 1, 1, 1, 2, 2, 2, 1, 2, 2, 1, 1, 2, 2, 1, 2, 2,\n",
       "       3, 1, 1, 3, 3, 3, 3, 3, 3, 3, 3, 1, 2])"
      ]
     },
     "execution_count": 15,
     "metadata": {},
     "output_type": "execute_result"
    }
   ],
   "source": [
    "campanas_por_ubi = np.load('campanas_por_ubi.npy')\n",
    "campanas_por_ubi"
   ]
  },
  {
   "cell_type": "code",
   "execution_count": 16,
   "id": "68604dc4-de1c-43c3-8340-d8ac08942aba",
   "metadata": {},
   "outputs": [
    {
     "data": {
      "text/plain": [
       "array([1.6, 1.6, 1.6, 0.8, 1.6, 1.6, 1.6, 1.6, 1.6, 1.6, 1.6, 1.6, 1.6,\n",
       "       1.6, 1.6, 1.6, 1.6, 3.2, 1.6, 1.6, 1.6, 1.6, 1.6, 1.6, 1.6, 1.6,\n",
       "       1.6, 1.6, 0.8, 0.8, 0.8, 1.6, 1.6, 1.6, 0.8, 1.6, 1.6, 0.8, 0.8,\n",
       "       1.6, 1.6, 0.8, 1.6, 1.6, 2.4, 0.8, 0.8, 2.4, 2.4, 2.4, 2.4, 2.4,\n",
       "       2.4, 2.4, 2.4, 0.8, 1.6])"
      ]
     },
     "execution_count": 16,
     "metadata": {},
     "output_type": "execute_result"
    }
   ],
   "source": [
    "demands_ton  = 0.8*campanas_por_ubi\n",
    "demands_ton "
   ]
  },
  {
   "cell_type": "code",
   "execution_count": 19,
   "id": "71059a7c-ee58-46b5-a51c-f3a10bf45659",
   "metadata": {
    "scrolled": true
   },
   "outputs": [
    {
     "name": "stdout",
     "output_type": "stream",
     "text": [
      "Distancia total: 315.31929293212727\n",
      "Camión 1: [0, 5, 20, 14, 9, 45, 16, 10, 47, 2, 0]\n",
      "Camión 2: [0, 6, 33, 34, 32, 55, 21, 41, 24, 0]\n",
      "Camión 3: [0, 11, 15, 19, 17, 50, 56, 49, 57, 0]\n",
      "Camión 4: [0, 3, 31, 25, 39, 4, 40, 29, 38, 52, 22, 7, 0]\n",
      "Camión 5: [0, 37, 36, 13, 28, 8, 26, 23, 48, 0]\n",
      "Camión 6: [0, 27, 51, 54, 43, 12, 53, 44, 30, 0]\n",
      "Camión 7: [0, 42, 1, 46, 18, 35, 0]\n",
      "Tiempo de ejecución: 9.893783807754517 segundos\n"
     ]
    }
   ],
   "source": [
    "from time import time\n",
    "start = time()\n",
    "rutas, distancia = jaya_vrp(distances, demands_ton, pop_size=30, max_iter=1000)\n",
    "rutas = [[int(nodo) for nodo in ruta] for ruta in rutas]\n",
    "print(\"Distancia total:\", distancia)\n",
    "for i, ruta in enumerate(rutas):\n",
    "    print(f\"Camión {i+1}: {ruta}\")\n",
    "print(\"Tiempo de ejecución:\", time() - start, \"segundos\")\n"
   ]
  },
  {
   "cell_type": "code",
   "execution_count": 20,
   "id": "f9bc1ecb-1c32-481c-bf67-47edb70147e1",
   "metadata": {},
   "outputs": [
    {
     "name": "stdout",
     "output_type": "stream",
     "text": [
      "Distancia total: 250.19152692591518\n",
      "Camión 1: [0, 6, 7, 23, 24, 25, 37, 32, 35, 28, 0]\n",
      "Camión 2: [0, 14, 16, 45, 50, 10, 20, 54, 29, 0]\n",
      "Camión 3: [0, 33, 48, 15, 49, 22, 30, 42, 47, 27, 0]\n",
      "Camión 4: [0, 5, 13, 8, 40, 36, 38, 34, 43, 55, 0]\n",
      "Camión 5: [0, 4, 51, 26, 56, 57, 12, 21, 1, 3, 31, 0]\n",
      "Camión 6: [0, 41, 39, 2, 17, 19, 53, 11, 9, 44, 0]\n",
      "Camión 7: [0, 52, 46, 18, 0]\n"
     ]
    }
   ],
   "source": [
    "rutas, distancia = gwo_vrp(distances, demands_ton, n_wolves=20, max_iter=500)\n",
    "rutas = [[int(nodo) for nodo in ruta] for ruta in rutas]\n",
    "print(\"Distancia total:\", distancia)\n",
    "for i, ruta in enumerate(rutas):\n",
    "    print(f\"Camión {i+1}: {ruta}\")"
   ]
  },
  {
   "cell_type": "code",
   "execution_count": 21,
   "id": "e3b7c00f-5916-483b-a04d-c88eb644c0ab",
   "metadata": {},
   "outputs": [
    {
     "name": "stdout",
     "output_type": "stream",
     "text": [
      "Distancia total: 203.13505573626685\n",
      "Camión 1: [0, 54, 27, 21, 57, 10, 9, 44, 32, 0]\n",
      "Camión 2: [0, 13, 5, 38, 14, 22, 49, 12, 43, 34, 0]\n",
      "Camión 3: [0, 56, 33, 45, 50, 17, 15, 47, 2, 42, 39, 0]\n",
      "Camión 4: [0, 28, 18, 16, 46, 11, 20, 35, 29, 23, 4, 0]\n",
      "Camión 5: [0, 7, 37, 55, 19, 53, 48, 36, 0]\n",
      "Camión 6: [0, 8, 40, 41, 31, 1, 52, 51, 30, 3, 0]\n",
      "Camión 7: [0, 25, 24, 26, 6, 0]\n"
     ]
    }
   ],
   "source": [
    "rutas, distancia = simulated_annealing_vrp(distances, demands_ton, initial_temp=1000, cooling_rate=0.995, n_iter=10000)\n",
    "rutas = [[int(nodo) for nodo in ruta] for ruta in rutas]\n",
    "print(\"Distancia total:\", distancia)\n",
    "for i, ruta in enumerate(rutas):\n",
    "    print(f\"Camión {i+1}: {ruta}\")\n"
   ]
  },
  {
   "cell_type": "code",
   "execution_count": null,
   "id": "bf2c6be1-7d81-469f-b77d-b2e477e8c920",
   "metadata": {},
   "outputs": [],
   "source": []
  }
 ],
 "metadata": {
  "kernelspec": {
   "display_name": "Python 3 (ipykernel)",
   "language": "python",
   "name": "python3"
  },
  "language_info": {
   "codemirror_mode": {
    "name": "ipython",
    "version": 3
   },
   "file_extension": ".py",
   "mimetype": "text/x-python",
   "name": "python",
   "nbconvert_exporter": "python",
   "pygments_lexer": "ipython3",
   "version": "3.12.7"
  }
 },
 "nbformat": 4,
 "nbformat_minor": 5
}
