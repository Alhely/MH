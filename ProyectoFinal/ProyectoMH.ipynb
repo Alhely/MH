{
 "cells": [
  {
   "cell_type": "code",
   "execution_count": 8,
   "id": "bf2c6be1-7d81-469f-b77d-b2e477e8c920",
   "metadata": {},
   "outputs": [],
   "source": [
    "import numpy as np\n",
    "\n",
    "def jaya(dist_matrix, demands, capacity, pop_size=50, max_iter=2000):\n",
    "    \"\"\"\n",
    "    Aplica Jaya para el CVRP. dist_matrix es NxN de distancias, demands es vector de tamaño N,\n",
    "    capacity es carga máxima. Devuelve lista de rutas y costo total.\n",
    "    \"\"\"\n",
    "    n = len(demands)\n",
    "    customers = list(range(1, n))  # excluye el depósito 0\n",
    "    # Inicializar población: cada solución es un vector real de tamaño (n-1)\n",
    "    population = np.random.rand(pop_size, n-1)\n",
    "    # Función interna para evaluar una solución contínua:\n",
    "    def eval_sol(x):\n",
    "        # mapear a permutación ordenando índices de x\n",
    "        perm = [customers[i] for i in np.argsort(x)]\n",
    "        # construir rutas por acumulación de demanda\n",
    "        cost = 0.0\n",
    "        current = 0\n",
    "        load = 0.0\n",
    "        for cust in perm:\n",
    "            if load + demands[cust] > capacity:\n",
    "                cost += dist_matrix[current, 0]  # volver al depósito\n",
    "                current = 0\n",
    "                load = 0.0\n",
    "            cost += dist_matrix[current, cust]\n",
    "            load += demands[cust]\n",
    "            current = cust\n",
    "        cost += dist_matrix[current, 0]\n",
    "        return cost, perm\n",
    "    # Evaluar población inicial\n",
    "    costs = np.zeros(pop_size)\n",
    "    for i in range(pop_size):\n",
    "        costs[i], _ = eval_sol(population[i])\n",
    "    # Iteraciones de Jaya\n",
    "    for t in range(max_iter):\n",
    "        # Identificar mejores/peores\n",
    "        best_idx = np.argmin(costs)\n",
    "        worst_idx = np.argmax(costs)\n",
    "        best = population[best_idx].copy()\n",
    "        worst = population[worst_idx].copy()\n",
    "        # Actualizar cada individuo\n",
    "        for i in range(pop_size):\n",
    "            r1 = np.random.rand(n-1)\n",
    "            r2 = np.random.rand(n-1)\n",
    "            new = population[i] + r1*(best - np.abs(population[i])) - r2*(worst - np.abs(population[i]))\n",
    "            # Opcional: truncar entre [0,1] para estabilidad\n",
    "            new = np.clip(new, 0, 1)\n",
    "            new_cost, _ = eval_sol(new)\n",
    "            # Selección codiciosa\n",
    "            if new_cost < costs[i]:\n",
    "                population[i] = new\n",
    "                costs[i] = new_cost\n",
    "    # Retornar mejor solución encontrada\n",
    "    final_cost = costs.min()\n",
    "    final_sol = population[costs.argmin()]\n",
    "    best_cost, best_perm = eval_sol(final_sol)\n",
    "    return best_perm, best_cost\n"
   ]
  },
  {
   "cell_type": "code",
   "execution_count": 9,
   "id": "69aedc83-2320-4b46-ae8f-cf7d0944dc8d",
   "metadata": {},
   "outputs": [],
   "source": [
    "def gwo(dist_matrix, demands, capacity, num_wolves=30, max_iter=500):\n",
    "    \"\"\"\n",
    "    Optimización de Lobo Gris para CVRP. Cada solución es un 'lobo' vector real.\n",
    "    \"\"\"\n",
    "    n = len(demands)\n",
    "    customers = list(range(1, n))\n",
    "    # Inicializar lobos aleatorios\n",
    "    wolves = np.random.rand(num_wolves, n-1)\n",
    "    def eval_sol(x):\n",
    "        perm = [customers[i] for i in np.argsort(x)]\n",
    "        cost = 0.0\n",
    "        current = 0\n",
    "        load = 0.0\n",
    "        for cust in perm:\n",
    "            if load + demands[cust] > capacity:\n",
    "                cost += dist_matrix[current, 0]\n",
    "                current = 0\n",
    "                load = 0.0\n",
    "            cost += dist_matrix[current, cust]\n",
    "            load += demands[cust]\n",
    "            current = cust\n",
    "        cost += dist_matrix[current, 0]\n",
    "        return cost, perm\n",
    "    # Evaluar inicial\n",
    "    fitness = np.array([eval_sol(w)[0] for w in wolves])\n",
    "    for t in range(max_iter):\n",
    "        # Ordenar lobos por fitness\n",
    "        idx = np.argsort(fitness)\n",
    "        alpha, beta, gamma = wolves[idx[0]], wolves[idx[1]], wolves[idx[2]]\n",
    "        a = 2 * (1 - t/max_iter)  # coeficiente lineal decreciente\n",
    "        # Actualizar cada lobo\n",
    "        for i in range(num_wolves):\n",
    "            r1, r2 = np.random.rand(n-1), np.random.rand(n-1)\n",
    "            A1 = 2*a*r1 - a;    C1 = 2*r2\n",
    "            D_alpha = np.abs(C1*alpha - wolves[i])\n",
    "            X1 = alpha - A1*D_alpha\n",
    "            r1, r2 = np.random.rand(n-1), np.random.rand(n-1)\n",
    "            A2 = 2*a*r1 - a;    C2 = 2*r2\n",
    "            D_beta = np.abs(C2*beta - wolves[i])\n",
    "            X2 = beta - A2*D_beta\n",
    "            r1, r2 = np.random.rand(n-1), np.random.rand(n-1)\n",
    "            A3 = 2*a*r1 - a;    C3 = 2*r2\n",
    "            D_gamma = np.abs(C3*gamma - wolves[i])\n",
    "            X3 = gamma - A3*D_gamma\n",
    "            new_wolf = (X1 + X2 + X3) / 3\n",
    "            new_cost, _ = eval_sol(new_wolf)\n",
    "            if new_cost < fitness[i]:\n",
    "                wolves[i] = new_wolf\n",
    "                fitness[i] = new_cost\n",
    "    # Mejor lobo al final\n",
    "    best_idx = fitness.argmin()\n",
    "    best_cost, best_perm = eval_sol(wolves[best_idx])\n",
    "    return best_perm, best_cost\n"
   ]
  },
  {
   "cell_type": "code",
   "execution_count": 10,
   "id": "b06a20c3-58ff-474e-afad-8160ecbca485",
   "metadata": {},
   "outputs": [],
   "source": [
    "def simulated_annealing(dist_matrix, demands, capacity, T0=1000, cooling_rate=0.99, max_iter=10000):\n",
    "    \"\"\"\n",
    "    Recocido simulado para CVRP. Se representa la solución como permutación de clientes.\n",
    "    \"\"\"\n",
    "    n = len(demands)\n",
    "    customers = list(range(1, n))\n",
    "    # Función para calcular costo dado un orden de clientes\n",
    "    def eval_perm(perm):\n",
    "        cost = 0.0; current = 0; load = 0.0\n",
    "        for cust in perm:\n",
    "            if load + demands[cust] > capacity:\n",
    "                cost += dist_matrix[current, 0]\n",
    "                current = 0; load = 0.0\n",
    "            cost += dist_matrix[current, cust]\n",
    "            load += demands[cust]\n",
    "            current = cust\n",
    "        cost += dist_matrix[current, 0]\n",
    "        return cost\n",
    "    # Solución inicial (aleatoria)\n",
    "    current_perm = customers.copy()\n",
    "    np.random.shuffle(current_perm)\n",
    "    current_cost = eval_perm(current_perm)\n",
    "    best_perm = current_perm.copy()\n",
    "    best_cost = current_cost\n",
    "    T = T0\n",
    "    for i in range(max_iter):\n",
    "        # Generar vecino: swap aleatorio\n",
    "        i1, i2 = np.random.choice(len(customers), 2, replace=False)\n",
    "        new_perm = current_perm.copy()\n",
    "        new_perm[i1], new_perm[i2] = new_perm[i2], new_perm[i1]\n",
    "        new_cost = eval_perm(new_perm)\n",
    "        # Aceptar si mejor, o con probabilidad\n",
    "        if new_cost < current_cost or np.random.rand() < np.exp((current_cost - new_cost)/T):\n",
    "            current_perm, current_cost = new_perm, new_cost\n",
    "            if new_cost < best_cost:\n",
    "                best_perm, best_cost = new_perm.copy(), new_cost\n",
    "        # Enfriar temperatura\n",
    "        T *= cooling_rate\n",
    "        if T < 1e-3:\n",
    "            break\n",
    "    return best_perm, best_cost\n"
   ]
  },
  {
   "cell_type": "code",
   "execution_count": 11,
   "id": "de47e218-1f14-4df4-b675-cade385bea4c",
   "metadata": {},
   "outputs": [],
   "source": [
    "import numpy as np\n",
    "\n",
    "capacity_truck = 15.0  # toneladas\n",
    "container_capacity = 0.8  # toneladas (se usa para redondear demandas si es preciso)\n",
    "\n",
    "distances_weekly = np.load('distance_matrix_semanal.npy')\n",
    "demands_weekly  = 0.8*np.load('campanas_por_ubi_semanal.npy')\n",
    "distances_biweekly = np.load('distance_matrix_quincenal.npy')\n",
    "demands_biweekly  = 0.8*np.load('campanas_por_ubi_quincenal.npy')"
   ]
  },
  {
   "cell_type": "code",
   "execution_count": 12,
   "id": "a568519d-e2a9-4b93-81d5-ac49b6d36db5",
   "metadata": {},
   "outputs": [
    {
     "data": {
      "text/plain": [
       "(38, 38)"
      ]
     },
     "execution_count": 12,
     "metadata": {},
     "output_type": "execute_result"
    }
   ],
   "source": [
    "np.shape(distances_weekly)"
   ]
  },
  {
   "cell_type": "code",
   "execution_count": 13,
   "id": "8b3253e9-f089-408c-94e0-48321f0ee14e",
   "metadata": {},
   "outputs": [
    {
     "data": {
      "text/plain": [
       "array([ 6.4,  6.4,  4.8,  4.8, 11.2,  1.6, 11.2,  4.8,  4.8,  1.6,  1.6,\n",
       "        4. ,  4. ])"
      ]
     },
     "execution_count": 13,
     "metadata": {},
     "output_type": "execute_result"
    }
   ],
   "source": [
    "demands_weekly"
   ]
  },
  {
   "cell_type": "code",
   "execution_count": 14,
   "id": "a19c6272-4d38-4a4f-ba02-064445614148",
   "metadata": {},
   "outputs": [
    {
     "data": {
      "text/plain": [
       "(39, 39)"
      ]
     },
     "execution_count": 14,
     "metadata": {},
     "output_type": "execute_result"
    }
   ],
   "source": [
    "np.shape(distances_biweekly)"
   ]
  },
  {
   "cell_type": "code",
   "execution_count": 15,
   "id": "a3c73f6b-a37a-4c5d-acb7-a61180530cb6",
   "metadata": {},
   "outputs": [
    {
     "data": {
      "text/plain": [
       "array([ 5.6,  3.2, 13.6,  3.2,  3.2,  5.6,  7.2, 12. ,  6.4,  4.8])"
      ]
     },
     "execution_count": 15,
     "metadata": {},
     "output_type": "execute_result"
    }
   ],
   "source": [
    "demands_biweekly"
   ]
  },
  {
   "cell_type": "code",
   "execution_count": 16,
   "id": "77675082-b47c-4c07-90dd-a95d3faf351c",
   "metadata": {},
   "outputs": [
    {
     "name": "stdout",
     "output_type": "stream",
     "text": [
      "Jaya Semanal: 85.16142483764757 con orden: [11, 9, 10, 12, 6, 3, 7, 2, 4, 8, 1, 5]\n",
      "GWO Quincenal: 70.87147585756317 con orden: [4, 3, 1, 9, 5, 6, 7, 8, 2]\n",
      "SA Semanal: 87.60969703022688 con orden: [1, 8, 11, 9, 12, 10, 2, 3, 7, 4, 5, 6]\n"
     ]
    }
   ],
   "source": [
    "# Ejecutar Jaya para rutas semanales\n",
    "perm_jaya_weekly, cost_jaya_weekly = jaya(distances_weekly, demands_weekly, capacity_truck)\n",
    "print(\"Jaya Semanal:\", cost_jaya_weekly, \"con orden:\", perm_jaya_weekly)\n",
    "\n",
    "# Ejecutar GWO para rutas quincenales\n",
    "perm_gwo_biweekly, cost_gwo_biweekly = gwo(distances_biweekly, demands_biweekly, capacity_truck)\n",
    "print(\"GWO Quincenal:\", cost_gwo_biweekly, \"con orden:\", perm_gwo_biweekly)\n",
    "\n",
    "# Ejecutar Simulated Annealing para rutas semanales\n",
    "perm_sa_weekly, cost_sa_weekly = simulated_annealing(distances_weekly, demands_weekly, capacity_truck)\n",
    "print(\"SA Semanal:\", cost_sa_weekly, \"con orden:\", perm_sa_weekly)\n"
   ]
  },
  {
   "cell_type": "code",
   "execution_count": 17,
   "id": "c9e0e1a5-59af-4b7f-8b53-f121de7d15fb",
   "metadata": {},
   "outputs": [],
   "source": [
    "import time\n",
    "\n",
    "def construir_rutas_con_salida(perm, demands, capacity, distances):\n",
    "    rutas = []\n",
    "    ruta_actual = [0]\n",
    "    carga = 0.0\n",
    "    distancia_total = 0.0\n",
    "    nodo_anterior = 0\n",
    "\n",
    "    for cliente in perm:\n",
    "        demanda = demands[cliente]\n",
    "        if carga + demanda > capacity:\n",
    "            ruta_actual.append(0)\n",
    "            # Calcular distancia de la ruta\n",
    "            dist = sum(distances[ruta_actual[i]][ruta_actual[i+1]] for i in range(len(ruta_actual)-1))\n",
    "            distancia_total += dist\n",
    "            rutas.append(ruta_actual)\n",
    "            # Iniciar nueva ruta\n",
    "            ruta_actual = [0, cliente]\n",
    "            carga = demanda\n",
    "            nodo_anterior = cliente\n",
    "        else:\n",
    "            ruta_actual.append(cliente)\n",
    "            carga += demanda\n",
    "            nodo_anterior = cliente\n",
    "\n",
    "    # Agregar última ruta\n",
    "    if ruta_actual[-1] != 0:\n",
    "        ruta_actual.append(0)\n",
    "        dist = sum(distances[ruta_actual[i]][ruta_actual[i+1]] for i in range(len(ruta_actual)-1))\n",
    "        distancia_total += dist\n",
    "        rutas.append(ruta_actual)\n",
    "\n",
    "    return rutas, distancia_total\n"
   ]
  },
  {
   "cell_type": "markdown",
   "id": "1f1b3aa9-a2e1-4e33-9f14-71f2289b5d01",
   "metadata": {},
   "source": [
    "# semanal"
   ]
  },
  {
   "cell_type": "markdown",
   "id": "1492133c-18f2-44df-86fe-0bf3383a790a",
   "metadata": {},
   "source": [
    "## jaya"
   ]
  },
  {
   "cell_type": "code",
   "execution_count": 18,
   "id": "d7c198da-83bb-41c7-a99d-c0faca7f7186",
   "metadata": {},
   "outputs": [
    {
     "name": "stdout",
     "output_type": "stream",
     "text": [
      "Distancia total: 85.16142483764757\n",
      "Camión 1: [0, 11, 9, 12, 10, 0]\n",
      "Camión 2: [0, 4, 0]\n",
      "Camión 3: [0, 6, 0]\n",
      "Camión 4: [0, 1, 5, 8, 0]\n",
      "Camión 5: [0, 7, 3, 2, 0]\n",
      "Tiempo de ejecución: 5.25741171836853 segundos\n"
     ]
    }
   ],
   "source": [
    "start = time.time()\n",
    "perm, _ = jaya(distances_weekly, demands_weekly, capacity_truck)\n",
    "rutas, dist_total = construir_rutas_con_salida(perm, demands_weekly, capacity_truck, distances_weekly)\n",
    "end = time.time()\n",
    "\n",
    "print(f\"Distancia total: {dist_total}\")\n",
    "for i, r in enumerate(rutas):\n",
    "    print(f\"Camión {i+1}: {r}\")\n",
    "print(f\"Tiempo de ejecución: {end - start} segundos\")"
   ]
  },
  {
   "cell_type": "code",
   "execution_count": 19,
   "id": "558c5448-9fa3-4bf5-bf07-1205ab3d2c1a",
   "metadata": {
    "scrolled": true
   },
   "outputs": [
    {
     "name": "stdout",
     "output_type": "stream",
     "text": [
      "Distancia total: 85.16142483764759\n",
      "Camión 1: [0, 6, 0]\n",
      "Camión 2: [0, 7, 3, 2, 0]\n",
      "Camión 3: [0, 8, 5, 1, 0]\n",
      "Camión 4: [0, 4, 0]\n",
      "Camión 5: [0, 12, 10, 9, 11, 0]\n",
      "Tiempo de ejecución: 10.151625633239746 segundos\n"
     ]
    }
   ],
   "source": [
    "start = time.time()\n",
    "perm, _ = jaya(distances_weekly, demands_weekly, capacity_truck, pop_size=100, max_iter=2000)\n",
    "rutas, dist_total = construir_rutas_con_salida(perm, demands_weekly, capacity_truck, distances_weekly)\n",
    "end = time.time()\n",
    "\n",
    "print(f\"Distancia total: {dist_total}\")\n",
    "for i, r in enumerate(rutas):\n",
    "    print(f\"Camión {i+1}: {r}\")\n",
    "print(f\"Tiempo de ejecución: {end - start} segundos\")"
   ]
  },
  {
   "cell_type": "code",
   "execution_count": 20,
   "id": "32741695-d63b-41ed-afd3-90a1e2574bb8",
   "metadata": {},
   "outputs": [
    {
     "name": "stdout",
     "output_type": "stream",
     "text": [
      "Distancia total: 85.16142483764757\n",
      "Camión 1: [0, 10, 12, 9, 11, 0]\n",
      "Camión 2: [0, 6, 0]\n",
      "Camión 3: [0, 8, 1, 5, 0]\n",
      "Camión 4: [0, 4, 0]\n",
      "Camión 5: [0, 3, 7, 2, 0]\n",
      "Tiempo de ejecución: 15.591084718704224 segundos\n"
     ]
    }
   ],
   "source": [
    "start = time.time()\n",
    "perm, _ = jaya(distances_weekly, demands_weekly, capacity_truck,pop_size=150, max_iter=2000)\n",
    "rutas, dist_total = construir_rutas_con_salida(perm, demands_weekly, capacity_truck, distances_weekly)\n",
    "end = time.time()\n",
    "\n",
    "print(f\"Distancia total: {dist_total}\")\n",
    "for i, r in enumerate(rutas):\n",
    "    print(f\"Camión {i+1}: {r}\")\n",
    "print(f\"Tiempo de ejecución: {end - start} segundos\")"
   ]
  },
  {
   "cell_type": "markdown",
   "id": "d5e3e7ec-31ad-48ed-b07f-34b41a64358a",
   "metadata": {},
   "source": [
    "## GW"
   ]
  },
  {
   "cell_type": "code",
   "execution_count": 21,
   "id": "49a2499d-381d-40dc-841c-0eb2f1a87ec7",
   "metadata": {
    "scrolled": true
   },
   "outputs": [
    {
     "name": "stdout",
     "output_type": "stream",
     "text": [
      "Distancia total: 85.16142483764759\n",
      "Camión 1: [0, 9, 11, 10, 12, 0]\n",
      "Camión 2: [0, 3, 7, 2, 0]\n",
      "Camión 3: [0, 8, 5, 1, 0]\n",
      "Camión 4: [0, 4, 0]\n",
      "Camión 5: [0, 6, 0]\n",
      "Tiempo de ejecución: 1.4312148094177246 segundos\n"
     ]
    }
   ],
   "source": [
    "start = time.time()\n",
    "perm, _ = gwo(distances_weekly, demands_weekly, capacity_truck)\n",
    "rutas, dist_total = construir_rutas_con_salida(perm, demands_weekly, capacity_truck, distances_weekly)\n",
    "end = time.time()\n",
    "\n",
    "print(f\"Distancia total: {dist_total}\")\n",
    "for i, r in enumerate(rutas):\n",
    "    print(f\"Camión {i+1}: {r}\")\n",
    "print(f\"Tiempo de ejecución: {end - start} segundos\")"
   ]
  },
  {
   "cell_type": "code",
   "execution_count": 22,
   "id": "49c67678-2aec-461c-8383-ea96e8640311",
   "metadata": {
    "scrolled": true
   },
   "outputs": [
    {
     "name": "stdout",
     "output_type": "stream",
     "text": [
      "Distancia total: 85.16142483764759\n",
      "Camión 1: [0, 12, 10, 11, 9, 0]\n",
      "Camión 2: [0, 2, 7, 3, 0]\n",
      "Camión 3: [0, 4, 0]\n",
      "Camión 4: [0, 6, 0]\n",
      "Camión 5: [0, 8, 5, 1, 0]\n",
      "Tiempo de ejecución: 2.5935535430908203 segundos\n"
     ]
    }
   ],
   "source": [
    "start = time.time()\n",
    "perm, _ = gwo(distances_weekly, demands_weekly, capacity_truck, num_wolves=50, max_iter=500)\n",
    "rutas, dist_total = construir_rutas_con_salida(perm, demands_weekly, capacity_truck, distances_weekly)\n",
    "end = time.time()\n",
    "\n",
    "print(f\"Distancia total: {dist_total}\")\n",
    "for i, r in enumerate(rutas):\n",
    "    print(f\"Camión {i+1}: {r}\")\n",
    "print(f\"Tiempo de ejecución: {end - start} segundos\")"
   ]
  },
  {
   "cell_type": "code",
   "execution_count": 23,
   "id": "0ef047ad-55e4-4b50-8cef-32c1092693db",
   "metadata": {},
   "outputs": [
    {
     "name": "stdout",
     "output_type": "stream",
     "text": [
      "Distancia total: 85.16142483764759\n",
      "Camión 1: [0, 3, 7, 2, 0]\n",
      "Camión 2: [0, 6, 0]\n",
      "Camión 3: [0, 8, 1, 5, 0]\n",
      "Camión 4: [0, 12, 10, 9, 11, 0]\n",
      "Camión 5: [0, 4, 0]\n",
      "Tiempo de ejecución: 4.88019061088562 segundos\n"
     ]
    }
   ],
   "source": [
    "start = time.time()\n",
    "perm, _ = gwo(distances_weekly, demands_weekly, capacity_truck, num_wolves=100, max_iter=500)\n",
    "rutas, dist_total = construir_rutas_con_salida(perm, demands_weekly, capacity_truck, distances_weekly)\n",
    "end = time.time()\n",
    "\n",
    "print(f\"Distancia total: {dist_total}\")\n",
    "for i, r in enumerate(rutas):\n",
    "    print(f\"Camión {i+1}: {r}\")\n",
    "print(f\"Tiempo de ejecución: {end - start} segundos\")"
   ]
  },
  {
   "cell_type": "markdown",
   "id": "164f96ef-e2ae-400b-b2de-d6caed8b1426",
   "metadata": {},
   "source": [
    "## RS"
   ]
  },
  {
   "cell_type": "code",
   "execution_count": 25,
   "id": "8c338922-e17a-40dc-9186-cd1c67c4234a",
   "metadata": {
    "scrolled": true
   },
   "outputs": [
    {
     "name": "stdout",
     "output_type": "stream",
     "text": [
      "Distancia total: 85.16142483764759\n",
      "Camión 1: [0, 1, 5, 8, 0]\n",
      "Camión 2: [0, 7, 3, 2, 0]\n",
      "Camión 3: [0, 9, 11, 12, 10, 0]\n",
      "Camión 4: [0, 6, 0]\n",
      "Camión 5: [0, 4, 0]\n",
      "Tiempo de ejecución: 0.12074828147888184 segundos\n"
     ]
    }
   ],
   "source": [
    "start = time.time()\n",
    "perm, _ = simulated_annealing(distances_weekly, demands_weekly, capacity_truck, T0=1000, cooling_rate=0.99, max_iter=10000)\n",
    "rutas, dist_total = construir_rutas_con_salida(perm, demands_weekly, capacity_truck, distances_weekly)\n",
    "end = time.time()\n",
    "\n",
    "print(f\"Distancia total: {dist_total}\")\n",
    "for i, r in enumerate(rutas):\n",
    "    print(f\"Camión {i+1}: {r}\")\n",
    "print(f\"Tiempo de ejecución: {end - start} segundos\")"
   ]
  },
  {
   "cell_type": "code",
   "execution_count": 26,
   "id": "acd8b08b-e440-488f-b51e-d5bfe547b219",
   "metadata": {
    "scrolled": true
   },
   "outputs": [
    {
     "name": "stdout",
     "output_type": "stream",
     "text": [
      "Distancia total: 89.12268782744718\n",
      "Camión 1: [0, 4, 5, 0]\n",
      "Camión 2: [0, 8, 1, 0]\n",
      "Camión 3: [0, 6, 0]\n",
      "Camión 4: [0, 3, 2, 7, 0]\n",
      "Camión 5: [0, 11, 12, 9, 10, 0]\n",
      "Tiempo de ejecución: 0.0345766544342041 segundos\n"
     ]
    }
   ],
   "source": [
    "start = time.time()\n",
    "perm, _ = simulated_annealing(distances_weekly, demands_weekly, capacity_truck, T0=1000, cooling_rate=0.99, max_iter=500)\n",
    "rutas, dist_total = construir_rutas_con_salida(perm, demands_weekly, capacity_truck, distances_weekly)\n",
    "end = time.time()\n",
    "\n",
    "print(f\"Distancia total: {dist_total}\")\n",
    "for i, r in enumerate(rutas):\n",
    "    print(f\"Camión {i+1}: {r}\")\n",
    "print(f\"Tiempo de ejecución: {end - start} segundos\")"
   ]
  },
  {
   "cell_type": "code",
   "execution_count": 27,
   "id": "330922a0-39a4-4c78-918d-eaafe5091ba8",
   "metadata": {},
   "outputs": [
    {
     "name": "stdout",
     "output_type": "stream",
     "text": [
      "Distancia total: 86.87746526517708\n",
      "Camión 1: [0, 2, 8, 7, 0]\n",
      "Camión 2: [0, 1, 5, 3, 0]\n",
      "Camión 3: [0, 11, 12, 10, 9, 0]\n",
      "Camión 4: [0, 6, 0]\n",
      "Camión 5: [0, 4, 0]\n",
      "Tiempo de ejecución: 0.014360666275024414 segundos\n"
     ]
    }
   ],
   "source": [
    "start = time.time()\n",
    "perm, _ = simulated_annealing(distances_weekly, demands_weekly, capacity_truck, T0=1000, cooling_rate=0.99, max_iter=200)\n",
    "rutas, dist_total = construir_rutas_con_salida(perm, demands_weekly, capacity_truck, distances_weekly)\n",
    "end = time.time()\n",
    "\n",
    "print(f\"Distancia total: {dist_total}\")\n",
    "for i, r in enumerate(rutas):\n",
    "    print(f\"Camión {i+1}: {r}\")\n",
    "print(f\"Tiempo de ejecución: {end - start} segundos\")"
   ]
  },
  {
   "cell_type": "markdown",
   "id": "7edf1493-7539-4391-b844-bb2d1b3710a6",
   "metadata": {},
   "source": [
    "# quincenal"
   ]
  },
  {
   "cell_type": "markdown",
   "id": "8ce28311-638d-498b-8b36-b849b2be1e1e",
   "metadata": {},
   "source": [
    "## jaya"
   ]
  },
  {
   "cell_type": "code",
   "execution_count": 28,
   "id": "e594224f-679a-4cfd-b9db-c994b0777fa2",
   "metadata": {},
   "outputs": [
    {
     "name": "stdout",
     "output_type": "stream",
     "text": [
      "Distancia total: 70.87147585756317\n",
      "Camión 1: [0, 9, 1, 3, 4, 0]\n",
      "Camión 2: [0, 6, 5, 0]\n",
      "Camión 3: [0, 8, 0]\n",
      "Camión 4: [0, 7, 0]\n",
      "Camión 5: [0, 2, 0]\n",
      "Tiempo de ejecución: 5.182040214538574 segundos\n"
     ]
    }
   ],
   "source": [
    "start = time.time()\n",
    "perm, _ = jaya(distances_biweekly, demands_biweekly, capacity_truck)\n",
    "rutas, dist_total = construir_rutas_con_salida(perm, demands_biweekly, capacity_truck, distances_biweekly)\n",
    "end = time.time()\n",
    "\n",
    "print(f\"Distancia total: {dist_total}\")\n",
    "for i, r in enumerate(rutas):\n",
    "    print(f\"Camión {i+1}: {r}\")\n",
    "print(f\"Tiempo de ejecución: {end - start} segundos\")"
   ]
  },
  {
   "cell_type": "code",
   "execution_count": 29,
   "id": "df2f460d-14c3-44f5-8cd9-383b4888d6f5",
   "metadata": {
    "scrolled": true
   },
   "outputs": [
    {
     "name": "stdout",
     "output_type": "stream",
     "text": [
      "Distancia total: 70.87147585756318\n",
      "Camión 1: [0, 4, 3, 1, 9, 0]\n",
      "Camión 2: [0, 8, 0]\n",
      "Camión 3: [0, 2, 0]\n",
      "Camión 4: [0, 7, 0]\n",
      "Camión 5: [0, 6, 5, 0]\n",
      "Tiempo de ejecución: 10.53414273262024 segundos\n"
     ]
    }
   ],
   "source": [
    "start = time.time()\n",
    "perm, _ = jaya(distances_biweekly, demands_biweekly, capacity_truck, pop_size=100, max_iter=2000)\n",
    "rutas, dist_total = construir_rutas_con_salida(perm, demands_biweekly, capacity_truck, distances_biweekly)\n",
    "end = time.time()\n",
    "\n",
    "print(f\"Distancia total: {dist_total}\")\n",
    "for i, r in enumerate(rutas):\n",
    "    print(f\"Camión {i+1}: {r}\")\n",
    "print(f\"Tiempo de ejecución: {end - start} segundos\")"
   ]
  },
  {
   "cell_type": "code",
   "execution_count": 30,
   "id": "7b4ec4d1-2c10-461e-9aed-bd89bdb1af7f",
   "metadata": {},
   "outputs": [
    {
     "name": "stdout",
     "output_type": "stream",
     "text": [
      "Distancia total: 70.87147585756317\n",
      "Camión 1: [0, 9, 1, 3, 4, 0]\n",
      "Camión 2: [0, 6, 5, 0]\n",
      "Camión 3: [0, 8, 0]\n",
      "Camión 4: [0, 7, 0]\n",
      "Camión 5: [0, 2, 0]\n",
      "Tiempo de ejecución: 61.70775532722473 segundos\n"
     ]
    }
   ],
   "source": [
    "start = time.time()\n",
    "perm, _ = jaya(distances_biweekly, demands_biweekly, capacity_truck,pop_size=600, max_iter=2000)\n",
    "rutas, dist_total = construir_rutas_con_salida(perm, demands_biweekly, capacity_truck, distances_biweekly)\n",
    "end = time.time()\n",
    "\n",
    "print(f\"Distancia total: {dist_total}\")\n",
    "for i, r in enumerate(rutas):\n",
    "    print(f\"Camión {i+1}: {r}\")\n",
    "print(f\"Tiempo de ejecución: {end - start} segundos\")"
   ]
  },
  {
   "cell_type": "markdown",
   "id": "fcdf4d0d-b7f9-4e8c-8d03-8180c8f7ddce",
   "metadata": {},
   "source": [
    "## GW"
   ]
  },
  {
   "cell_type": "code",
   "execution_count": null,
   "id": "30e7ed8e-7118-46b7-a886-aafe238f8ac4",
   "metadata": {
    "scrolled": true
   },
   "outputs": [],
   "source": [
    "start = time.time()\n",
    "perm, _ = gwo(distances_biweekly, demands_biweekly, capacity_truck)\n",
    "rutas, dist_total = construir_rutas_con_salida(perm, demands_biweekly, capacity_truck, distances_biweekly)\n",
    "end = time.time()\n",
    "\n",
    "print(f\"Distancia total: {dist_total}\")\n",
    "for i, r in enumerate(rutas):\n",
    "    print(f\"Camión {i+1}: {r}\")\n",
    "print(f\"Tiempo de ejecución: {end - start} segundos\")"
   ]
  },
  {
   "cell_type": "code",
   "execution_count": null,
   "id": "def7f664-f63d-4ac2-ad5b-2bb72b2d085b",
   "metadata": {
    "scrolled": true
   },
   "outputs": [],
   "source": [
    "start = time.time()\n",
    "perm, _ = gwo(distances_biweekly, demands_biweekly, capacity_truck, num_wolves=50, max_iter=500)\n",
    "rutas, dist_total = construir_rutas_con_salida(perm, demands_biweekly, capacity_truck, distances_biweekly)\n",
    "end = time.time()\n",
    "\n",
    "print(f\"Distancia total: {dist_total}\")\n",
    "for i, r in enumerate(rutas):\n",
    "    print(f\"Camión {i+1}: {r}\")\n",
    "print(f\"Tiempo de ejecución: {end - start} segundos\")"
   ]
  },
  {
   "cell_type": "code",
   "execution_count": null,
   "id": "c8c6122a-6286-493f-9e81-81eb84506542",
   "metadata": {},
   "outputs": [],
   "source": [
    "start = time.time()\n",
    "perm, _ = gwo(distances_biweekly, demands_biweekly, capacity_truck, num_wolves=100, max_iter=500)\n",
    "rutas, dist_total = construir_rutas_con_salida(perm, demands_biweekly, capacity_truck, distances_biweekly)\n",
    "end = time.time()\n",
    "\n",
    "print(f\"Distancia total: {dist_total}\")\n",
    "for i, r in enumerate(rutas):\n",
    "    print(f\"Camión {i+1}: {r}\")\n",
    "print(f\"Tiempo de ejecución: {end - start} segundos\")"
   ]
  },
  {
   "cell_type": "markdown",
   "id": "50845470-ef23-4628-a825-f8f2315a2252",
   "metadata": {},
   "source": [
    "## RS"
   ]
  },
  {
   "cell_type": "code",
   "execution_count": null,
   "id": "e93a319b-c257-4b58-a022-4ffb89a18c06",
   "metadata": {
    "scrolled": true
   },
   "outputs": [],
   "source": [
    "start = time.time()\n",
    "perm, _ = simulated_annealing(distances_biweekly, demands_biweekly, capacity_truck, T0=1000, cooling_rate=0.99, max_iter=10000)\n",
    "rutas, dist_total = construir_rutas_con_salida(perm, demands_biweekly, capacity_truck, distances_biweekly)\n",
    "end = time.time()\n",
    "\n",
    "print(f\"Distancia total: {dist_total}\")\n",
    "for i, r in enumerate(rutas):\n",
    "    print(f\"Camión {i+1}: {r}\")\n",
    "print(f\"Tiempo de ejecución: {end - start} segundos\")"
   ]
  },
  {
   "cell_type": "code",
   "execution_count": null,
   "id": "8cd70c00-bbc9-4407-bf0d-63a0da9ffc26",
   "metadata": {
    "scrolled": true
   },
   "outputs": [],
   "source": [
    "start = time.time()\n",
    "perm, _ = simulated_annealing(distances_biweekly, demands_biweekly, capacity_truck, T0=1000, cooling_rate=0.99, max_iter=500)\n",
    "rutas, dist_total = construir_rutas_con_salida(perm, demands_biweekly, capacity_truck, distances_biweekly)\n",
    "end = time.time()\n",
    "\n",
    "print(f\"Distancia total: {dist_total}\")\n",
    "for i, r in enumerate(rutas):\n",
    "    print(f\"Camión {i+1}: {r}\")\n",
    "print(f\"Tiempo de ejecución: {end - start} segundos\")"
   ]
  },
  {
   "cell_type": "code",
   "execution_count": null,
   "id": "025143ea-50e9-44b1-b14f-c49b38d3af9d",
   "metadata": {},
   "outputs": [],
   "source": [
    "start = time.time()\n",
    "perm, _ = simulated_annealing(distances_biweekly, demands_biweekly, capacity_truck, T0=1000, cooling_rate=0.99, max_iter=200)\n",
    "rutas, dist_total = construir_rutas_con_salida(perm, demands_biweekly, capacity_truck, distances_biweekly)\n",
    "end = time.time()\n",
    "\n",
    "print(f\"Distancia total: {dist_total}\")\n",
    "for i, r in enumerate(rutas):\n",
    "    print(f\"Camión {i+1}: {r}\")\n",
    "print(f\"Tiempo de ejecución: {end - start} segundos\")"
   ]
  },
  {
   "cell_type": "code",
   "execution_count": null,
   "id": "7c9b2ea3-8b1c-4bc9-915e-582b3d005097",
   "metadata": {},
   "outputs": [],
   "source": []
  }
 ],
 "metadata": {
  "kernelspec": {
   "display_name": "Python 3 (ipykernel)",
   "language": "python",
   "name": "python3"
  },
  "language_info": {
   "codemirror_mode": {
    "name": "ipython",
    "version": 3
   },
   "file_extension": ".py",
   "mimetype": "text/x-python",
   "name": "python",
   "nbconvert_exporter": "python",
   "pygments_lexer": "ipython3",
   "version": "3.12.7"
  }
 },
 "nbformat": 4,
 "nbformat_minor": 5
}
