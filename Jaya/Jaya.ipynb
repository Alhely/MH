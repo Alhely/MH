{
 "cells": [
  {
   "cell_type": "code",
   "execution_count": 1,
   "id": "e420c53e-c437-400a-a272-fc7b308bd6f7",
   "metadata": {},
   "outputs": [],
   "source": [
    "import numpy as np\n",
    "import math"
   ]
  },
  {
   "cell_type": "code",
   "execution_count": 15,
   "id": "67b9d372-f261-4cf1-a6ce-979cb33d0bee",
   "metadata": {},
   "outputs": [],
   "source": [
    "def jaya_algorithm(n, dimension, iterations,  lower_bound, upper_bound, f, task):\n",
    "    \n",
    "    ## initialize population\n",
    "    population = np.random.uniform(lower_bound, upper_bound, size = (n, dimension)) \n",
    "    fitness = np.apply_along_axis(f, 1, population)\n",
    "\n",
    "    t = 0\n",
    "    while t < iterations:\n",
    "        if task =='max':\n",
    "            best_idx = np.argmax(fitness)\n",
    "            worst_idx = np.argmin(fitness)\n",
    "        else:\n",
    "            best_idx = np.argmin(fitness)\n",
    "            worst_idx = np.argmax(fitness)\n",
    "\n",
    "        for i in range(n):\n",
    "            r1, r2 = np.random.rand(), np.random.rand()\n",
    "\n",
    "            new_x = population[i] + r1*(population[best_idx] - np.linalg.norm(population[i]) ) - r2*(population[worst_idx] - np.linalg.norm(population[i]) )\n",
    "            \n",
    "            new_x = np.clip(new_x , lower_bound, upper_bound)\n",
    "            new_fitness = f(new_x)\n",
    "\n",
    "            if task =='max':\n",
    "                if new_fitness > fitness[i]:\n",
    "                    population[i] = new_x\n",
    "                    fitness[i] = new_fitness\n",
    "            else:\n",
    "                if new_fitness < fitness[i]:\n",
    "                    population[i] = new_x\n",
    "                    fitness[i] = new_fitness\n",
    "\n",
    "        t +=1\n",
    "    \n",
    "    return fitness[best_idx], population[best_idx]"
   ]
  },
  {
   "cell_type": "code",
   "execution_count": 3,
   "id": "d8d99f9e-d599-488f-b7e6-e1cbc2f9dd8f",
   "metadata": {},
   "outputs": [],
   "source": [
    "def beale(X):\n",
    "    return ((1.5 - X[0] + (X[0]*X[1]))**2)  + ((2.25 - X[0]+(X[0]*(X[1]**2)))**2)+ ((2.625-X[0]+(X[0]*(X[1]**3)))**2)\n",
    "\n",
    "## valor optimo 3,.5, f = 0"
   ]
  },
  {
   "cell_type": "code",
   "execution_count": 5,
   "id": "8077bcfe-1081-47dd-90ba-9230dd9c751b",
   "metadata": {},
   "outputs": [],
   "source": [
    "from timeit import default_timer as timer"
   ]
  },
  {
   "cell_type": "code",
   "execution_count": 14,
   "id": "7a689846-7605-461d-b546-640cf020f9ae",
   "metadata": {},
   "outputs": [
    {
     "name": "stdout",
     "output_type": "stream",
     "text": [
      "(np.float64(0.03628538660232241), array([3.1937083 , 0.57592473]))\n",
      "3.3419114999996964\n"
     ]
    }
   ],
   "source": [
    "# jaya_algorithm(n, dimension, iterations,  lower_bound, upper_bound, f, task)\n",
    "start = timer()\n",
    "print(jaya_algorithm(250, 2,  250,  -100,100, beale, 'min'))\n",
    "stop = timer()\n",
    "execution_time = stop - start\n",
    "print(execution_time)"
   ]
  },
  {
   "cell_type": "code",
   "execution_count": 18,
   "id": "9154efc3-01d4-46b2-9712-c03a47d99128",
   "metadata": {},
   "outputs": [],
   "source": [
    "def McCormick(X):\n",
    "    return np.sin(X[0]+X[1]) + (X[0]-X[1])**2 - 1.5 * X[0] + 2.5 * X[1] + 1"
   ]
  },
  {
   "cell_type": "code",
   "execution_count": 19,
   "id": "05b19483-aeb8-466f-a3fc-2a777e3074ed",
   "metadata": {},
   "outputs": [
    {
     "name": "stdout",
     "output_type": "stream",
     "text": [
      "(np.float64(-1.9132002515735342), array([-0.54347168, -1.5477562 ]))\n",
      "2.8511575999946217\n"
     ]
    }
   ],
   "source": [
    "# jaya_algorithm(n, dimension, iterations,  lower_bound, upper_bound, f, task)\n",
    "start = timer()\n",
    "print(jaya_algorithm(250, 2,  250,  -3,4, McCormick, 'min'))\n",
    "stop = timer()\n",
    "execution_time = stop - start\n",
    "print(execution_time)"
   ]
  },
  {
   "cell_type": "code",
   "execution_count": 20,
   "id": "a59392ee-27c1-40a7-ad2c-abf1ecfd54b1",
   "metadata": {},
   "outputs": [],
   "source": [
    "def himm(X):\n",
    "    return ((X[0]**2+X[1]-11)**2) + ((X[0]+(X[1]**2)-7)**2 )"
   ]
  },
  {
   "cell_type": "code",
   "execution_count": 21,
   "id": "57a123dd-cda3-4c44-8003-d8e31ebf1993",
   "metadata": {},
   "outputs": [
    {
     "data": {
      "text/plain": [
       "181.61652152257642"
      ]
     },
     "execution_count": 21,
     "metadata": {},
     "output_type": "execute_result"
    }
   ],
   "source": [
    "himm([-0.270845,-0.923039])"
   ]
  },
  {
   "cell_type": "code",
   "execution_count": 24,
   "id": "3989b07e-b5f0-40c8-bd8d-fc21ed0a161d",
   "metadata": {},
   "outputs": [
    {
     "name": "stdout",
     "output_type": "stream",
     "text": [
      "(np.float64(181.61613187273394), array([-0.27065288, -0.91631069]))\n",
      "0.9109784999964177\n"
     ]
    }
   ],
   "source": [
    "start = timer()\n",
    "print(jaya_algorithm(150, 2, 150,  -2,2, himm, 'max'))\n",
    "stop = timer()\n",
    "execution_time = stop - start\n",
    "print(execution_time)"
   ]
  },
  {
   "cell_type": "code",
   "execution_count": null,
   "id": "c16f3488-fb36-41e0-b625-1d8c3ba181c8",
   "metadata": {},
   "outputs": [],
   "source": []
  }
 ],
 "metadata": {
  "kernelspec": {
   "display_name": "Python 3 (ipykernel)",
   "language": "python",
   "name": "python3"
  },
  "language_info": {
   "codemirror_mode": {
    "name": "ipython",
    "version": 3
   },
   "file_extension": ".py",
   "mimetype": "text/x-python",
   "name": "python",
   "nbconvert_exporter": "python",
   "pygments_lexer": "ipython3",
   "version": "3.12.7"
  }
 },
 "nbformat": 4,
 "nbformat_minor": 5
}
