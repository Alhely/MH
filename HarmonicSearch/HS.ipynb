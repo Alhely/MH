{
 "cells": [
  {
   "cell_type": "code",
   "execution_count": 89,
   "id": "9af214d9-1bd4-4c5d-a2dd-aa4fa4090c92",
   "metadata": {},
   "outputs": [],
   "source": [
    "import numpy as np\n",
    "import warnings\n",
    "warnings.filterwarnings('ignore')\n"
   ]
  },
  {
   "cell_type": "code",
   "execution_count": 90,
   "id": "f0a2a441-dd0b-4962-863e-c410a1894f56",
   "metadata": {},
   "outputs": [],
   "source": [
    "tsts_m =  np.random.uniform(-5, 5, size = (50, 2)) "
   ]
  },
  {
   "cell_type": "code",
   "execution_count": 4,
   "id": "205172b9-0782-49c2-b2bb-1f9a8e3105cd",
   "metadata": {
    "scrolled": true
   },
   "outputs": [
    {
     "data": {
      "text/plain": [
       "2"
      ]
     },
     "execution_count": 4,
     "metadata": {},
     "output_type": "execute_result"
    }
   ],
   "source": [
    "tsts_m.shape[1]"
   ]
  },
  {
   "cell_type": "code",
   "execution_count": 6,
   "id": "192f975a-6235-47e8-aa39-5f1cc976635a",
   "metadata": {},
   "outputs": [
    {
     "data": {
      "text/plain": [
       "array([ 3.7330996 , -2.24833648, -3.74948083,  1.63370819, -1.33649809,\n",
       "       -4.47964875,  1.54098434,  1.65678909, -1.3896636 , -1.6516846 ,\n",
       "       -4.07066589,  2.46949435,  2.11947977,  4.17046557,  1.82690865,\n",
       "       -3.04094511,  2.18119291,  4.16726783,  2.93195192,  2.334503  ,\n",
       "        1.61806116, -4.51049905, -0.12863673, -2.99407772, -1.96799799,\n",
       "        0.42512041,  0.24050502,  3.65473408, -1.48601195, -1.04188159,\n",
       "        2.94026447,  4.00482086, -1.91597103, -3.17005738,  0.24344872,\n",
       "        4.57063563, -0.56380721,  2.77900327,  2.73017261, -4.24597753,\n",
       "        4.52417465, -3.47161969,  3.37871724, -3.02293148,  2.78337456,\n",
       "       -3.02245691,  1.54882998, -0.7581558 ,  3.40634936, -1.90936499])"
      ]
     },
     "execution_count": 6,
     "metadata": {},
     "output_type": "execute_result"
    }
   ],
   "source": [
    "tsts_m[:, 0]"
   ]
  },
  {
   "cell_type": "code",
   "execution_count": 5,
   "id": "4b3611a9-ecf5-476d-ae37-583857e78be0",
   "metadata": {},
   "outputs": [
    {
     "data": {
      "text/plain": [
       "np.float64(-1.6516845969970007)"
      ]
     },
     "execution_count": 5,
     "metadata": {},
     "output_type": "execute_result"
    }
   ],
   "source": [
    "np.random.choice(tsts_m[:, 0])"
   ]
  },
  {
   "cell_type": "code",
   "execution_count": 7,
   "id": "eecb5bca-2280-41d2-a197-ee6241f6eac3",
   "metadata": {},
   "outputs": [
    {
     "data": {
      "text/plain": [
       "array([0.30695029])"
      ]
     },
     "execution_count": 7,
     "metadata": {},
     "output_type": "execute_result"
    }
   ],
   "source": [
    "np.random.rand(1)"
   ]
  },
  {
   "cell_type": "code",
   "execution_count": 108,
   "id": "cbf1ffec-81bb-4887-a2b7-103dee67e401",
   "metadata": {},
   "outputs": [],
   "source": [
    "def HS_algorithm(HMS, HMCR, PAR, BW, lower_bound, upper_bound,f, iterations, dimension, task = 'max'):\n",
    "    \n",
    "    ## initialize population of size HM\n",
    "    HM = np.random.uniform(lower_bound, upper_bound, size = (HMS, dimension)) \n",
    "    # calculate fitness value for all particles\n",
    "    \n",
    "    F = np.apply_along_axis(f, 1, HM)\n",
    "    \n",
    "    if task == 'max':\n",
    "        best_idx = F.argmax()\n",
    "        historic_best = HM[best_idx]\n",
    "    else:\n",
    "        best_idx = F.argmin()\n",
    "        historic_best = HM[best_idx]\n",
    "    t = 0\n",
    "    while t < iterations:\n",
    "        \n",
    "        if task == 'max':\n",
    "            worst_idx = F.argmin()\n",
    "            worst_obj_value = F[F.argmin()]\n",
    "        else:\n",
    "            worst_idx = F.argmax()\n",
    "            worst_obj_value = F[F.argmax()]\n",
    "            \n",
    "        new_harmony = np.zeros(dimension)\n",
    "\n",
    "        for d in range(dimension):\n",
    "            r1, r2 = np.random.rand(2) ## 2 numbers between 0 and 1\n",
    "            \n",
    "            if r1 < HMCR:\n",
    "                new_harmony[d] = np.random.choice(HM[:, d])\n",
    "                if r2 < PAR:\n",
    "                     new_harmony[d] += (np.random.rand(1) *BW)\n",
    "            else:\n",
    "                 new_harmony[d] = lower_bound + ((upper_bound - lower_bound)*np.random.rand(1))\n",
    "                \n",
    "        F_new = f(new_harmony)\n",
    "            \n",
    "        if task == 'max':\n",
    "            if F_new > worst_obj_value:\n",
    "                HM[worst_idx] = new_harmony\n",
    "        else:\n",
    "            if F_new < worst_obj_value:\n",
    "                HM[worst_idx] = new_harmony\n",
    "\n",
    "\n",
    "        F[worst_idx] = F_new\n",
    "        \n",
    "        if task == 'max':\n",
    "            best_idx = F.argmax()\n",
    "            historic_best = HM[best_idx]\n",
    "            historic_best_obj = F[best_idx]\n",
    "        else:\n",
    "            best_idx = F.argmin()\n",
    "            historic_best = HM[best_idx]\n",
    "            historic_best_obj = F[best_idx]\n",
    "        \n",
    "        t += 1\n",
    "\n",
    "    \n",
    "    return historic_best, historic_best_obj"
   ]
  },
  {
   "cell_type": "code",
   "execution_count": 109,
   "id": "601f3dc8-b7e6-4a76-a55c-79d14639f13c",
   "metadata": {},
   "outputs": [
    {
     "data": {
      "text/plain": [
       "0.0"
      ]
     },
     "execution_count": 109,
     "metadata": {},
     "output_type": "execute_result"
    }
   ],
   "source": [
    "def beale(X):\n",
    "    return ((1.5 - X[0] + (X[0]*X[1]))**2)  + ((2.25 - X[0]+(X[0]*(X[1]**2)))**2)+ ((2.625-X[0]+(X[0]*(X[1]**3)))**2)\n",
    "\n",
    "## valor optimo 3,.5, f = 0\n",
    "beale([3, 0.5])"
   ]
  },
  {
   "cell_type": "code",
   "execution_count": 110,
   "id": "16842868-b99a-4c8b-ab26-ebedc770718c",
   "metadata": {},
   "outputs": [],
   "source": [
    "from timeit import default_timer as timer"
   ]
  },
  {
   "cell_type": "code",
   "execution_count": 156,
   "id": "fabbcd82-79f9-48a2-b960-6faac6a058b6",
   "metadata": {},
   "outputs": [
    {
     "name": "stdout",
     "output_type": "stream",
     "text": [
      "(array([3.00640603, 0.52595281]), np.float64(0.01439646595261806))\n",
      "0.13694309999846155\n"
     ]
    }
   ],
   "source": [
    "start = timer()\n",
    "# HS_algorithm(HMS, HMCR, PAR, BW, lower_bound, upper_bound,f, iterations, dimension, task = 'max')\n",
    "print(HS_algorithm(200, 0.95, 0.3,0.1, -100,100, beale, 1000,2, task = 'min'))\n",
    "stop = timer()\n",
    "execution_time = stop - start\n",
    "print(execution_time)"
   ]
  },
  {
   "cell_type": "code",
   "execution_count": 185,
   "id": "0698fc7e-0ebd-457a-8f36-b3ab41235eaf",
   "metadata": {},
   "outputs": [],
   "source": [
    "def McCormick(X):\n",
    "    return np.sin(X[0]+X[1]) + (X[0]-X[1])**2 - 1.5 * X[0] + 2.5 *X[1]+1"
   ]
  },
  {
   "cell_type": "code",
   "execution_count": 186,
   "id": "453a82cd-5a17-4412-8db9-f8c0b11ffca7",
   "metadata": {},
   "outputs": [
    {
     "data": {
      "text/plain": [
       "np.float64(-1.913222954882274)"
      ]
     },
     "execution_count": 186,
     "metadata": {},
     "output_type": "execute_result"
    }
   ],
   "source": [
    "McCormick([-0.54719,-1.54719])"
   ]
  },
  {
   "cell_type": "code",
   "execution_count": 191,
   "id": "7cd7ee21-8281-4776-88a6-f6ff941d253f",
   "metadata": {},
   "outputs": [
    {
     "name": "stdout",
     "output_type": "stream",
     "text": [
      "(array([-0.5927954 , -1.49005514]), np.float64(-1.9026095565306087))\n",
      "0.0431825999985449\n"
     ]
    }
   ],
   "source": [
    "start = timer()\n",
    "# HS_algorithm(HMS, HMCR, PAR, BW, lower_bound, upper_bound,f, iterations, dimension, task = 'max')\n",
    "\n",
    "print(HS_algorithm(600, 0.8, 0.1,0.1, -3, 4, McCormick, 500, 2 ,task = 'min'))\n",
    "\n",
    "stop = timer()\n",
    "execution_time = stop - start\n",
    "print(execution_time)"
   ]
  },
  {
   "cell_type": "code",
   "execution_count": 193,
   "id": "8a719742-2454-4e85-9f14-05f339a90967",
   "metadata": {},
   "outputs": [
    {
     "data": {
      "text/plain": [
       "181.61652152257642"
      ]
     },
     "execution_count": 193,
     "metadata": {},
     "output_type": "execute_result"
    }
   ],
   "source": [
    "def himm(X):\n",
    "    return ((X[0]**2+X[1]-11)**2) + ((X[0]+(X[1]**2)-7)**2 )\n",
    "himm([-0.270845,-0.923039])"
   ]
  },
  {
   "cell_type": "code",
   "execution_count": 194,
   "id": "4af903df-5db7-4092-ad1e-abf2c3303345",
   "metadata": {},
   "outputs": [
    {
     "name": "stdout",
     "output_type": "stream",
     "text": [
      "(array([-0.29094039, -0.92548518]), np.float64(181.6071946219211))\n",
      "0.07694769999943674\n"
     ]
    }
   ],
   "source": [
    "start = timer()\n",
    "# HS_algorithm(HMS, HMCR, PAR, BW, lower_bound, upper_bound,f, iterations, dimension, task = 'max')\n",
    "\n",
    "print(HS_algorithm(100, 0.8, 0.1,0.1, -1, 1, himm, 500, 2 ,task = 'max'))\n",
    "\n",
    "stop = timer()\n",
    "execution_time = stop - start\n",
    "print(execution_time)"
   ]
  },
  {
   "cell_type": "code",
   "execution_count": null,
   "id": "443646f5-1029-4b91-9360-5c7deb23eb41",
   "metadata": {},
   "outputs": [],
   "source": []
  }
 ],
 "metadata": {
  "kernelspec": {
   "display_name": "Python 3 (ipykernel)",
   "language": "python",
   "name": "python3"
  },
  "language_info": {
   "codemirror_mode": {
    "name": "ipython",
    "version": 3
   },
   "file_extension": ".py",
   "mimetype": "text/x-python",
   "name": "python",
   "nbconvert_exporter": "python",
   "pygments_lexer": "ipython3",
   "version": "3.12.7"
  }
 },
 "nbformat": 4,
 "nbformat_minor": 5
}
