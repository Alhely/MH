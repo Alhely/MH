{
 "cells": [
  {
   "cell_type": "code",
   "execution_count": 1,
   "id": "e420c53e-c437-400a-a272-fc7b308bd6f7",
   "metadata": {},
   "outputs": [],
   "source": [
    "import numpy as np\n",
    "import math"
   ]
  },
  {
   "cell_type": "code",
   "execution_count": 13,
   "id": "284128ff-9c28-46cd-be0b-7183ed0bb1f5",
   "metadata": {},
   "outputs": [],
   "source": [
    "def levy_flight(beta):\n",
    "    sigma = (np.math.gamma(1 + beta) * np.sin(np.pi * beta / 2) /\n",
    "             (np.math.gamma((1 + beta) / 2) * beta * 2 ** ((beta - 1) / 2))) ** (1 / beta)\n",
    "    u = np.random.randn() * sigma\n",
    "    v = np.random.randn()\n",
    "    step = u / abs(v) ** (1 / beta)\n",
    "    return step"
   ]
  },
  {
   "cell_type": "code",
   "execution_count": 81,
   "id": "67b9d372-f261-4cf1-a6ce-979cb33d0bee",
   "metadata": {},
   "outputs": [],
   "source": [
    "def CS_algorithm(n, pa, beta, dimension, iterations,  lower_bound, upper_bound, f, task = 'max'):\n",
    "    \n",
    "    ## initialize population\n",
    "    nests = np.random.uniform(lower_bound, upper_bound, size = (n, dimension)) \n",
    "    fitness = np.apply_along_axis(f, 1, nests)\n",
    "\n",
    "    t = 0\n",
    "    while t < iterations:\n",
    "        sigma = ((math.gamma(1 + beta) * np.sin(np.pi * beta / 2) /\n",
    "             (math.gamma((1 + beta) / 2) * beta * 2 ** ((beta - 1) / 2))) ** (1 / beta))\n",
    "        if task =='max':\n",
    "            best_idx = np.argmax(fitness)\n",
    "            best_nest = nests[best_idx]\n",
    "            best_fitness = fitness[best_idx]\n",
    "            best_global_fitness, best_global_nest =  fitness[best_idx], nests[best_idx]\n",
    "        else:\n",
    "            best_idx = np.argmin(fitness)\n",
    "            best_nest = nests[best_idx]\n",
    "            best_fitness = fitness[best_idx]\n",
    "            best_global_fitness, best_global_nest =  fitness[best_idx], nests[best_idx]\n",
    "\n",
    "        for i in range(n):\n",
    "            u = np.random.randn() * sigma\n",
    "            v = np.random.randn()\n",
    "            s = u / abs(v) ** (1 / beta)\n",
    "            new_x = nests[i] +  np.random.randn() *(0.01)*s*(nests[i]-best_nest)\n",
    "            new_x = np.clip(new_x + s, lower_bound, upper_bound)\n",
    "            new_fitness = f(new_x)\n",
    "\n",
    "            if task =='max':\n",
    "                if new_fitness > fitness[i]:\n",
    "                    nests[i] = new_x\n",
    "                    fitness[i] = new_fitness\n",
    "            else:\n",
    "                if new_fitness < fitness[i]:\n",
    "                    nests[i] = new_x\n",
    "                    fitness[i] = new_fitness\n",
    "\n",
    "            r = np.random.rand() \n",
    "            if r < pa:\n",
    "                d1 = np.random.randint(0,n)\n",
    "                d2 = np.random.randint(0,n)\n",
    "                if d1 != d2:\n",
    "                    new_x = nests[i] +np.random.randn()*(nests[d1]-nests[d2])\n",
    "                    new_fitness = f(new_x)\n",
    "                else:\n",
    "                    d2 = np.random.randint(0,n)\n",
    "                    new_x = nests[i] +np.random.randn()*(nests[d1]-nests[d2])\n",
    "                    new_fitness = f(new_x)\n",
    "                if task =='max':\n",
    "                    if new_fitness > fitness[i]:\n",
    "                        nests[i] = new_x\n",
    "                        fitness[i] = new_fitness\n",
    "                else:\n",
    "                    if new_fitness < fitness[i]:\n",
    "                        nests[i] = new_x\n",
    "                        fitness[i] = new_fitness\n",
    "        t +=1\n",
    "    \n",
    "    return best_global_fitness, best_global_nest"
   ]
  },
  {
   "cell_type": "code",
   "execution_count": 82,
   "id": "d8d99f9e-d599-488f-b7e6-e1cbc2f9dd8f",
   "metadata": {},
   "outputs": [
    {
     "data": {
      "text/plain": [
       "0.0"
      ]
     },
     "execution_count": 82,
     "metadata": {},
     "output_type": "execute_result"
    }
   ],
   "source": [
    "def beale(X):\n",
    "    return ((1.5 - X[0] + (X[0]*X[1]))**2)  + ((2.25 - X[0]+(X[0]*(X[1]**2)))**2)+ ((2.625-X[0]+(X[0]*(X[1]**3)))**2)\n",
    "\n",
    "## valor optimo 3,.5, f = 0\n",
    "beale([3, 0.5])"
   ]
  },
  {
   "cell_type": "code",
   "execution_count": 83,
   "id": "4aeda6b2-d59d-4d28-a90d-f7854ff919e4",
   "metadata": {},
   "outputs": [],
   "source": [
    "from timeit import default_timer as timer"
   ]
  },
  {
   "cell_type": "code",
   "execution_count": 84,
   "id": "302930a4-095f-42bc-8b4a-502400bbe58d",
   "metadata": {},
   "outputs": [
    {
     "name": "stdout",
     "output_type": "stream",
     "text": [
      "(np.float64(0.0015270211614199069), array([3.09001708, 0.51781988]))\n",
      "0.9823925999953644\n"
     ]
    }
   ],
   "source": [
    "start = timer()\n",
    "#CS_algorithm(n, pa, beta, dimension, iterations,  lower_bound, upper_bound, f, task = 'max')\n",
    "print(CS_algorithm(150, 0.25, 1.5, 2, 150,  -100,100, beale, task = 'min'))\n",
    "stop = timer()\n",
    "execution_time = stop - start\n",
    "print(execution_time)"
   ]
  },
  {
   "cell_type": "code",
   "execution_count": 121,
   "id": "9a40a266-336c-4a77-b441-63ffef6c22e7",
   "metadata": {},
   "outputs": [],
   "source": [
    "def McCormick(X):\n",
    "    return np.sin(X[0]+X[1]) + (X[0]-X[1])**2 - 1.5 * X[0] + 2.5 * X[1] + 1"
   ]
  },
  {
   "cell_type": "code",
   "execution_count": 122,
   "id": "d66164f8-a315-45d5-a605-b32c4da8600f",
   "metadata": {},
   "outputs": [
    {
     "data": {
      "text/plain": [
       "np.float64(-1.913222954882274)"
      ]
     },
     "execution_count": 122,
     "metadata": {},
     "output_type": "execute_result"
    }
   ],
   "source": [
    "McCormick([-0.54719,-1.54719])"
   ]
  },
  {
   "cell_type": "code",
   "execution_count": 130,
   "id": "be175380-5114-478f-bcdc-c9dc7c31df3e",
   "metadata": {},
   "outputs": [
    {
     "name": "stdout",
     "output_type": "stream",
     "text": [
      "(np.float64(-42.515250722251324), array([-44.79010613, -44.12875902]))\n",
      "0.08301839999330696\n"
     ]
    }
   ],
   "source": [
    "start = timer()\n",
    "#CS_algorithm(n, pa, beta, dimension, iterations,  lower_bound, upper_bound, f, task = 'max')\n",
    "print(CS_algorithm(50, 0.5, 2, 2, 20,  -3,4, McCormick, task = 'min'))\n",
    "stop = timer()\n",
    "execution_time = stop - start\n",
    "print(execution_time)"
   ]
  },
  {
   "cell_type": "code",
   "execution_count": 131,
   "id": "a59392ee-27c1-40a7-ad2c-abf1ecfd54b1",
   "metadata": {},
   "outputs": [
    {
     "data": {
      "text/plain": [
       "181.61652152257642"
      ]
     },
     "execution_count": 131,
     "metadata": {},
     "output_type": "execute_result"
    }
   ],
   "source": [
    "def himm(X):\n",
    "    return ((X[0]**2+X[1]-11)**2) + ((X[0]+(X[1]**2)-7)**2 )\n",
    "himm([-0.270845,-0.923039])"
   ]
  },
  {
   "cell_type": "code",
   "execution_count": 132,
   "id": "3989b07e-b5f0-40c8-bd8d-fc21ed0a161d",
   "metadata": {},
   "outputs": [
    {
     "name": "stdout",
     "output_type": "stream",
     "text": [
      "(np.float64(181.6165213004329), array([-0.27077789, -0.92317946]))\n",
      "0.97571340000286\n"
     ]
    }
   ],
   "source": [
    "start = timer()\n",
    "#CS_algorithm(n, pa, beta, dimension, iterations,  lower_bound, upper_bound, f, task = 'max')\n",
    "print(CS_algorithm(150, 0.25, 1.5, 2, 150,  -1,1, himm, task = 'max'))\n",
    "stop = timer()\n",
    "execution_time = stop - start\n",
    "print(execution_time)"
   ]
  },
  {
   "cell_type": "code",
   "execution_count": null,
   "id": "e30a2d7e-2d57-4021-9ed9-25c290461e27",
   "metadata": {},
   "outputs": [],
   "source": []
  },
  {
   "cell_type": "code",
   "execution_count": null,
   "id": "c16f3488-fb36-41e0-b625-1d8c3ba181c8",
   "metadata": {},
   "outputs": [],
   "source": []
  }
 ],
 "metadata": {
  "kernelspec": {
   "display_name": "Python 3 (ipykernel)",
   "language": "python",
   "name": "python3"
  },
  "language_info": {
   "codemirror_mode": {
    "name": "ipython",
    "version": 3
   },
   "file_extension": ".py",
   "mimetype": "text/x-python",
   "name": "python",
   "nbconvert_exporter": "python",
   "pygments_lexer": "ipython3",
   "version": "3.12.7"
  }
 },
 "nbformat": 4,
 "nbformat_minor": 5
}
