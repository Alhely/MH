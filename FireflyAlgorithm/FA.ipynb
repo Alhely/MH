{
 "cells": [
  {
   "cell_type": "code",
   "execution_count": 1,
   "id": "9af214d9-1bd4-4c5d-a2dd-aa4fa4090c92",
   "metadata": {},
   "outputs": [],
   "source": [
    "import numpy as np\n",
    "import warnings\n",
    "warnings.filterwarnings('ignore')"
   ]
  },
  {
   "cell_type": "code",
   "execution_count": 2,
   "id": "cbf1ffec-81bb-4887-a2b7-103dee67e401",
   "metadata": {},
   "outputs": [],
   "source": [
    "def firefly_algorithm(population, gamma, beta_zero, alpha_zero, delta, lower_bound, upper_bound, f, iterations, dimension, task='max'):\n",
    "    scale = abs(upper_bound - lower_bound)\n",
    "\n",
    "    # Initialize firefly positions\n",
    "    positions = np.random.uniform(lower_bound, upper_bound, size=(population, dimension))\n",
    "    I = np.apply_along_axis(f, 1, positions)\n",
    "\n",
    "    if task == 'max':\n",
    "        best_idx = I.argmax()\n",
    "    else:\n",
    "        best_idx = I.argmin()\n",
    "\n",
    "    historic_best = positions[best_idx]\n",
    "    historic_best_obj = I[best_idx]\n",
    "\n",
    "    t = 0\n",
    "    while t < iterations:\n",
    "        for i in range(population):\n",
    "            for j in range(population):\n",
    "                if i == j:\n",
    "                    continue\n",
    "\n",
    "                if (task == 'max' and I[i] < I[j]) or (task == 'min' and I[i] > I[j]):\n",
    "                    rij = np.linalg.norm(positions[i] - positions[j])\n",
    "\n",
    "                    attraction = beta_zero * np.exp(-gamma * rij)\n",
    "                    random_step = alpha_zero * delta * (np.random.rand(dimension) - 0.5) * scale\n",
    "\n",
    "                    new_position = positions[i] + attraction * (positions[j] - positions[i]) + random_step\n",
    "\n",
    "                    # Keep new position within bounds\n",
    "                    new_position = np.clip(new_position, lower_bound, upper_bound)\n",
    "\n",
    "                    new_f = f(new_position)\n",
    "\n",
    "                    if (task == 'max' and new_f > I[i]) or (task == 'min' and new_f < I[i]):\n",
    "                        positions[i] = new_position\n",
    "                        I[i] = new_f\n",
    "\n",
    "        if task == 'max':\n",
    "            best_idx = I.argmax()\n",
    "        else:\n",
    "            best_idx = I.argmin()\n",
    "\n",
    "        historic_best = positions[best_idx]\n",
    "        historic_best_obj = I[best_idx]\n",
    "\n",
    "        t += 1\n",
    "\n",
    "    return historic_best, historic_best_obj"
   ]
  },
  {
   "cell_type": "code",
   "execution_count": 3,
   "id": "ada15b75-e5d1-4a4a-9a63-7f70364e6132",
   "metadata": {},
   "outputs": [
    {
     "data": {
      "text/plain": [
       "0.0"
      ]
     },
     "execution_count": 3,
     "metadata": {},
     "output_type": "execute_result"
    }
   ],
   "source": [
    "def beale(X):\n",
    "    return ((1.5 - X[0] + (X[0]*X[1]))**2)  + ((2.25 - X[0]+(X[0]*(X[1]**2)))**2)+ ((2.625-X[0]+(X[0]*(X[1]**3)))**2)\n",
    "\n",
    "## valor optimo 3,.5, f = 0\n",
    "beale([3, 0.5])"
   ]
  },
  {
   "cell_type": "code",
   "execution_count": 4,
   "id": "6c5718a4-82b7-4635-bbf8-ab9d78ec3afd",
   "metadata": {},
   "outputs": [],
   "source": [
    "from timeit import default_timer as timer"
   ]
  },
  {
   "cell_type": "code",
   "execution_count": 5,
   "id": "68449844-d333-4b53-9c45-29ecf20a8b11",
   "metadata": {},
   "outputs": [
    {
     "name": "stdout",
     "output_type": "stream",
     "text": [
      "(array([2.53339074, 0.3355404 ]), np.float64(0.06870218938014791))\n",
      "20.130532400002267\n"
     ]
    }
   ],
   "source": [
    "start = timer()\n",
    "# firefly_algorithm(population, gamma, beta_zero,  alpha_zero, delta,lower_bound, upper_bound,f, iterations, dimension, task = 'max')\n",
    "#population, gamma, beta_zero, alpha_zero, delta, lower_bound, upper_bound, f, iterations, dimension, task='max'\n",
    "print(firefly_algorithm(100, 0.01, 1, 1, 0.9, -100, 100, beale, 100, 2 ,task = 'min'))\n",
    "stop = timer()\n",
    "execution_time = stop - start\n",
    "print(execution_time)"
   ]
  },
  {
   "cell_type": "code",
   "execution_count": 6,
   "id": "5689a6fa-9226-4fb3-b148-6fcfb6b91b46",
   "metadata": {},
   "outputs": [],
   "source": [
    "def McCormick(X):\n",
    "    return np.sin(X[0]+X[1]) + (X[0]-X[1])**2 - 1.5 * X[0] + 2.5 *X[1]+1"
   ]
  },
  {
   "cell_type": "code",
   "execution_count": 8,
   "id": "b4843750-a100-4123-9ae1-607aca848df6",
   "metadata": {},
   "outputs": [
    {
     "name": "stdout",
     "output_type": "stream",
     "text": [
      "(array([-0.54400481, -1.54269241]), np.float64(-1.913195535499134))\n",
      "26.749691999997594\n"
     ]
    }
   ],
   "source": [
    "start = timer()\n",
    "# firefly_algorithm(population, gamma, beta_zero,  alpha_zero, delta,lower_bound, upper_bound,f, iterations, dimension, task = 'max')\n",
    "#population, gamma, beta_zero, alpha_zero, delta, lower_bound, upper_bound, f, iterations, dimension, task='max'\n",
    "print(firefly_algorithm(100, 0.01, 1, 1, 0.9, -3, 4, McCormick, 100, 2 ,task = 'min'))\n",
    "stop = timer()\n",
    "execution_time = stop - start\n",
    "print(execution_time)"
   ]
  },
  {
   "cell_type": "code",
   "execution_count": 9,
   "id": "0698fc7e-0ebd-457a-8f36-b3ab41235eaf",
   "metadata": {},
   "outputs": [
    {
     "data": {
      "text/plain": [
       "181.61652152257642"
      ]
     },
     "execution_count": 9,
     "metadata": {},
     "output_type": "execute_result"
    }
   ],
   "source": [
    "def himm(X):\n",
    "    return ((X[0]**2+X[1]-11)**2) + ((X[0]+(X[1]**2)-7)**2 )\n",
    "himm([-0.270845,-0.923039])"
   ]
  },
  {
   "cell_type": "code",
   "execution_count": 11,
   "id": "4af903df-5db7-4092-ad1e-abf2c3303345",
   "metadata": {},
   "outputs": [
    {
     "name": "stdout",
     "output_type": "stream",
     "text": [
      "(array([-0.27147197, -0.92199401]), np.float64(181.6165066311311))\n",
      "23.810970999998972\n"
     ]
    }
   ],
   "source": [
    "start = timer()\n",
    "# firefly_algorithm(population, gamma, beta_zero,  alpha_zero, delta,lower_bound, upper_bound,f, iterations, dimension, task = 'max')\n",
    "#population, gamma, beta_zero, alpha_zero, delta, lower_bound, upper_bound, f, iterations, dimension, task='max'\n",
    "print(firefly_algorithm(100, 0.01, 1, 1, 0.9, -1, 1, himm, 100, 2 ,task = 'max'))\n",
    "stop = timer()\n",
    "execution_time = stop - start\n",
    "print(execution_time)"
   ]
  },
  {
   "cell_type": "code",
   "execution_count": null,
   "id": "5c09db92-cc63-4cc5-86db-25116e7960ec",
   "metadata": {},
   "outputs": [],
   "source": []
  },
  {
   "cell_type": "code",
   "execution_count": null,
   "id": "443646f5-1029-4b91-9360-5c7deb23eb41",
   "metadata": {},
   "outputs": [],
   "source": []
  }
 ],
 "metadata": {
  "kernelspec": {
   "display_name": "Python 3 (ipykernel)",
   "language": "python",
   "name": "python3"
  },
  "language_info": {
   "codemirror_mode": {
    "name": "ipython",
    "version": 3
   },
   "file_extension": ".py",
   "mimetype": "text/x-python",
   "name": "python",
   "nbconvert_exporter": "python",
   "pygments_lexer": "ipython3",
   "version": "3.12.7"
  }
 },
 "nbformat": 4,
 "nbformat_minor": 5
}
