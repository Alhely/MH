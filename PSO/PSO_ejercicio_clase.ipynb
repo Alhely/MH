{
 "cells": [
  {
   "cell_type": "code",
   "execution_count": null,
   "id": "bd905217-a5f1-4aa1-a4ea-110fe6da3ec6",
   "metadata": {},
   "outputs": [],
   "source": [
    "t = 2 # dos iteraciones\n",
    "w = 1\n",
    "c1 = 1\n",
    "c2 = 1\n",
    "pg\n",
    "pb\n",
    "\n",
    "vt+1 = wtvt+c1r1(pbt-xt)+c2r2(pg-xt)\n",
    "xt+1 = xt+vt+1"
   ]
  },
  {
   "cell_type": "code",
   "execution_count": null,
   "id": "5c86ccb5-5233-477e-bb0d-318176150967",
   "metadata": {},
   "outputs": [],
   "source": [
    "def velocidad(w,r1,r2,c1,c2,x,pb, pg):\n",
    "    return w*vt + c1*r1(pbt-xt) + c2*r2(pg-xt)"
   ]
  },
  {
   "cell_type": "code",
   "execution_count": 5,
   "id": "a47221b6-a98a-43cb-ac71-02abf3d2cb11",
   "metadata": {},
   "outputs": [],
   "source": [
    "R = [[0.213,0.876],[0.113,0.706],[0.178,0.507]]\n",
    "X = [-9.6,-6,-2.6,-1.1,0.6,2.3,2.8,8.3,10]"
   ]
  },
  {
   "cell_type": "code",
   "execution_count": 12,
   "id": "b9457a4a-e73d-4cfb-892c-f55f843a2684",
   "metadata": {},
   "outputs": [],
   "source": [
    "def funcion(x):\n",
    "    return -x**2+5*x+20"
   ]
  },
  {
   "cell_type": "code",
   "execution_count": null,
   "id": "d9e008e0-13df-43d3-9902-3595883f5d2c",
   "metadata": {},
   "outputs": [],
   "source": [
    "la primer velocidad es aleatoria entre 0 y 1 "
   ]
  },
  {
   "cell_type": "code",
   "execution_count": 16,
   "id": "62fd20f2-12a5-46ec-b1bb-a73c94b52769",
   "metadata": {},
   "outputs": [
    {
     "data": {
      "text/html": [
       "<div>\n",
       "<style scoped>\n",
       "    .dataframe tbody tr th:only-of-type {\n",
       "        vertical-align: middle;\n",
       "    }\n",
       "\n",
       "    .dataframe tbody tr th {\n",
       "        vertical-align: top;\n",
       "    }\n",
       "\n",
       "    .dataframe thead th {\n",
       "        text-align: right;\n",
       "    }\n",
       "</style>\n",
       "<table border=\"1\" class=\"dataframe\">\n",
       "  <thead>\n",
       "    <tr style=\"text-align: right;\">\n",
       "      <th></th>\n",
       "      <th>x</th>\n",
       "      <th>f(x)</th>\n",
       "    </tr>\n",
       "  </thead>\n",
       "  <tbody>\n",
       "    <tr>\n",
       "      <th>0</th>\n",
       "      <td>-9.6</td>\n",
       "      <td>-120.16</td>\n",
       "    </tr>\n",
       "    <tr>\n",
       "      <th>1</th>\n",
       "      <td>-6.0</td>\n",
       "      <td>-46.00</td>\n",
       "    </tr>\n",
       "    <tr>\n",
       "      <th>2</th>\n",
       "      <td>-2.6</td>\n",
       "      <td>0.24</td>\n",
       "    </tr>\n",
       "    <tr>\n",
       "      <th>3</th>\n",
       "      <td>-1.1</td>\n",
       "      <td>13.29</td>\n",
       "    </tr>\n",
       "    <tr>\n",
       "      <th>4</th>\n",
       "      <td>0.6</td>\n",
       "      <td>22.64</td>\n",
       "    </tr>\n",
       "    <tr>\n",
       "      <th>5</th>\n",
       "      <td>2.3</td>\n",
       "      <td>26.21</td>\n",
       "    </tr>\n",
       "    <tr>\n",
       "      <th>6</th>\n",
       "      <td>2.8</td>\n",
       "      <td>26.16</td>\n",
       "    </tr>\n",
       "    <tr>\n",
       "      <th>7</th>\n",
       "      <td>8.3</td>\n",
       "      <td>-7.39</td>\n",
       "    </tr>\n",
       "    <tr>\n",
       "      <th>8</th>\n",
       "      <td>10.0</td>\n",
       "      <td>-30.00</td>\n",
       "    </tr>\n",
       "  </tbody>\n",
       "</table>\n",
       "</div>"
      ],
      "text/plain": [
       "      x    f(x)\n",
       "0  -9.6 -120.16\n",
       "1  -6.0  -46.00\n",
       "2  -2.6    0.24\n",
       "3  -1.1   13.29\n",
       "4   0.6   22.64\n",
       "5   2.3   26.21\n",
       "6   2.8   26.16\n",
       "7   8.3   -7.39\n",
       "8  10.0  -30.00"
      ]
     },
     "execution_count": 16,
     "metadata": {},
     "output_type": "execute_result"
    }
   ],
   "source": [
    "import pandas as pd\n",
    "initi_df = pd.DataFrame(X, columns = ['x'])\n",
    "initi_df['f(x)'] = initi_df['x'].apply(lambda x: funcion(x))\n",
    "initi_df['vel'] = initi_df['x'].apply(lambda x: funcion(x))"
   ]
  },
  {
   "cell_type": "code",
   "execution_count": null,
   "id": "29e53774-4f4b-497b-be93-a00e6d6a38f3",
   "metadata": {},
   "outputs": [],
   "source": []
  }
 ],
 "metadata": {
  "kernelspec": {
   "display_name": "Python 3 (ipykernel)",
   "language": "python",
   "name": "python3"
  },
  "language_info": {
   "codemirror_mode": {
    "name": "ipython",
    "version": 3
   },
   "file_extension": ".py",
   "mimetype": "text/x-python",
   "name": "python",
   "nbconvert_exporter": "python",
   "pygments_lexer": "ipython3",
   "version": "3.12.7"
  }
 },
 "nbformat": 4,
 "nbformat_minor": 5
}
