{
 "cells": [
  {
   "cell_type": "code",
   "execution_count": 1,
   "id": "bcfcfec5-a71a-4d45-a8b4-1e6254a2a69b",
   "metadata": {},
   "outputs": [],
   "source": [
    "# Find the min or max of a function"
   ]
  },
  {
   "cell_type": "code",
   "execution_count": 2,
   "id": "583cc536-4c01-4c19-9d59-2e5f80ec3bc6",
   "metadata": {
    "scrolled": true
   },
   "outputs": [],
   "source": [
    "#help(np.random.uniform)"
   ]
  },
  {
   "cell_type": "code",
   "execution_count": 1,
   "id": "754ce0a6-f51c-458f-82cc-7a206c416a95",
   "metadata": {
    "scrolled": true
   },
   "outputs": [],
   "source": [
    "import numpy as np\n",
    "#tst = np.random.uniform(-5,5, size = (20,2))"
   ]
  },
  {
   "cell_type": "code",
   "execution_count": 6,
   "id": "125c7f4a-bcec-4452-8c77-44574e52965f",
   "metadata": {},
   "outputs": [],
   "source": [
    "#f_tst =np.apply_along_axis(f, 1, tst)\n",
    "#f_tst\n",
    "#xxx = [[0,0],[0,0],[0,0],[0,0],[0,0],[0,0],[0,0],[0,0],[0,0],[0,0]]\n",
    "#xxx2 = [[1,1],[1,1],[1,1],[1,1],[1,1],[1,1],[1,1],[1,1],[1,1],[1,1]]\n",
    "#tst = np.array([12, 20, 20,  5, 15,\n",
    "#       10, 10, 14, 20, 12])\n",
    "#tst2 = np.array([12+1, 20-1, 20+1,  5-1, 15-1,\n",
    "  #     10+1, 10+1, 14-1, 20-1, 12-1])\n",
    "#np.where(tst<tst2)[0]\n",
    "#np.where(tst<tst2, True, False)[0] == True\n",
    "#best_x_test = tst[f_tst.argmax()]\n",
    "#best_x_test np.array([-3.94718846,  2.65602563]) - np.array([ 2.47280001,  2.30411492])\n",
    "#test_v =  np.random.uniform(0, 1, size =  (20,2)) "
   ]
  },
  {
   "cell_type": "code",
   "execution_count": 53,
   "id": "44e6602d-5497-44f5-bc0f-51acfb5037d4",
   "metadata": {},
   "outputs": [],
   "source": [
    "import numpy as np\n",
    "\n",
    "def PSO_algorithm(c1, c2, w, n_particles, iterations, dimension, lower_bound, upper_bound, f, task='max'):\n",
    "    # Initialize particles and velocities\n",
    "    X = np.random.uniform(lower_bound, upper_bound, (n_particles, dimension))\n",
    "    V = np.random.uniform(0, 1, (n_particles, dimension))\n",
    "    \n",
    "    # Evaluate initial fitness\n",
    "    fitness = np.array([f(x) for x in X])\n",
    "    \n",
    "    # Initialize personal bests\n",
    "    p_best = X.copy()\n",
    "    p_best_fitness = fitness.copy()\n",
    "    \n",
    "    # Initialize global best\n",
    "    if task == 'max':\n",
    "        g_best_idx = np.argmax(fitness)\n",
    "    else:\n",
    "        g_best_idx = np.argmin(fitness)\n",
    "    \n",
    "    g_best = X[g_best_idx].copy()\n",
    "    g_best_fitness = fitness[g_best_idx]\n",
    "\n",
    "    for _ in range(iterations):\n",
    "        # Random coefficients\n",
    "        r1 = np.random.rand(n_particles, dimension)\n",
    "        r2 = np.random.rand(n_particles, dimension)\n",
    "\n",
    "        # Velocity update\n",
    "        V = w * V + c1 * r1 * (p_best - X) + c2 * r2 * (g_best - X)\n",
    "\n",
    "        # Position update with bounds\n",
    "        X = np.clip(X + V, lower_bound, upper_bound)\n",
    "\n",
    "        # Evaluate new fitness\n",
    "        fitness = np.array([f(x) for x in X])\n",
    "\n",
    "        # Update personal bests\n",
    "        improved = fitness > p_best_fitness if task == 'max' else fitness < p_best_fitness\n",
    "        p_best[improved] = X[improved]\n",
    "        p_best_fitness[improved] = fitness[improved]\n",
    "\n",
    "        # Update global best\n",
    "        current_best_idx = np.argmax(fitness) if task == 'max' else np.argmin(fitness)\n",
    "        current_best_fitness = fitness[current_best_idx]\n",
    "\n",
    "        if (task == 'max' and current_best_fitness > g_best_fitness) or \\\n",
    "           (task == 'min' and current_best_fitness < g_best_fitness):\n",
    "            g_best_fitness = current_best_fitness\n",
    "            g_best = X[current_best_idx].copy()\n",
    "\n",
    "    return g_best_fitness, g_best"
   ]
  },
  {
   "cell_type": "code",
   "execution_count": 54,
   "id": "4f1bcaf4-a08b-455b-b466-52663cebc0a5",
   "metadata": {},
   "outputs": [],
   "source": [
    "def beale(X):\n",
    "    return ((1.5 - X[0] + (X[0]*X[1]))**2)  + ((2.25 - X[0]+(X[0]*(X[1]**2)))**2)+ ((2.625-X[0]+(X[0]*(X[1]**3)))**2)\n",
    "\n",
    "## valor optimo 3,.5, f = 0"
   ]
  },
  {
   "cell_type": "code",
   "execution_count": 55,
   "id": "66bbac66-786b-47f7-9aa0-60d747c1950c",
   "metadata": {},
   "outputs": [
    {
     "data": {
      "text/plain": [
       "0.0"
      ]
     },
     "execution_count": 55,
     "metadata": {},
     "output_type": "execute_result"
    }
   ],
   "source": [
    "beale([3, 0.5])"
   ]
  },
  {
   "cell_type": "code",
   "execution_count": 56,
   "id": "66d8ae56-0b33-430f-b0ba-abd68b5fdcc2",
   "metadata": {},
   "outputs": [],
   "source": [
    "from timeit import default_timer as timer"
   ]
  },
  {
   "cell_type": "code",
   "execution_count": 58,
   "id": "c5c1d6c7-d7fb-49f9-87a9-e80e18c99969",
   "metadata": {},
   "outputs": [
    {
     "name": "stdout",
     "output_type": "stream",
     "text": [
      "(np.float64(2.5898821751813403e-14), array([2.99999976, 0.49999997]))\n",
      "0.10257129999990866\n"
     ]
    }
   ],
   "source": [
    "start = timer()\n",
    "#(c1, c2, w, n_particles, iterations, dimension, lower_bound, upper_bound, f, task = 'max')\n",
    "print(PSO_algorithm(1, 1, 0.8, 100,150, 2 ,-100,100, beale, task = 'min'))\n",
    "stop = timer()\n",
    "execution_time = stop - start\n",
    "print(execution_time)"
   ]
  },
  {
   "cell_type": "code",
   "execution_count": 89,
   "id": "5c77d94c-81fe-4fd7-9ce9-cc48e05c9f07",
   "metadata": {},
   "outputs": [],
   "source": [
    "def McCormick(X):\n",
    "    return np.sin(X[0]+X[1]) + (X[0]-X[1])**2 - 1.5 * X[0] + 2.5 *X[1]+1"
   ]
  },
  {
   "cell_type": "code",
   "execution_count": 101,
   "id": "1af438af-5c3b-4bda-95c4-53dc9a21be9e",
   "metadata": {},
   "outputs": [
    {
     "data": {
      "text/plain": [
       "np.float64(-1.913222954882274)"
      ]
     },
     "execution_count": 101,
     "metadata": {},
     "output_type": "execute_result"
    }
   ],
   "source": [
    "McCormick([-0.54719,-1.54719])"
   ]
  },
  {
   "cell_type": "code",
   "execution_count": 104,
   "id": "5b7155fd-9929-4b62-9bc7-344e9f5ef0c0",
   "metadata": {},
   "outputs": [
    {
     "name": "stdout",
     "output_type": "stream",
     "text": [
      "(np.float64(-1.9132227521972816), array([-0.54682408, -1.54689537]))\n",
      "0.15723280000020168\n"
     ]
    }
   ],
   "source": [
    "start = timer()\n",
    "#(c1, c2, w, n_particles, iterations, dimension, lower_bound, upper_bound, f, task = 'max')\n",
    "print(PSO_algorithm(1, 1, 0.9, 150,100, 2 ,-3,4, McCormick, task = 'min'))\n",
    "stop = timer()\n",
    "execution_time = stop - start\n",
    "print(execution_time)"
   ]
  },
  {
   "cell_type": "code",
   "execution_count": 110,
   "id": "be42cfca-bdec-44b7-add6-88abfec1fd43",
   "metadata": {},
   "outputs": [],
   "source": [
    "def himm(X):\n",
    "    return ((X[0]**2+X[1]-11)**2) + ((X[0]+(X[1]**2)-7)**2 )"
   ]
  },
  {
   "cell_type": "code",
   "execution_count": 111,
   "id": "7e6c88e9-3c25-4930-aa31-165d0b18fa42",
   "metadata": {},
   "outputs": [
    {
     "data": {
      "text/plain": [
       "181.61652152257642"
      ]
     },
     "execution_count": 111,
     "metadata": {},
     "output_type": "execute_result"
    }
   ],
   "source": [
    "himm([-0.270845,-0.923039])"
   ]
  },
  {
   "cell_type": "code",
   "execution_count": 112,
   "id": "6ce10d05-cdf6-4882-b3ea-4b19b86e0578",
   "metadata": {},
   "outputs": [
    {
     "name": "stdout",
     "output_type": "stream",
     "text": [
      "(np.float64(181.6165210176733), array([-0.27070009, -0.92300158]))\n",
      "0.12087540000356967\n"
     ]
    }
   ],
   "source": [
    "start = timer()\n",
    "#(c1, c2, w, n_particles, iterations, dimension, lower_bound, upper_bound, f, task = 'max')\n",
    "print(PSO_algorithm(2, 2, 0.9, 150,250, 2 ,-1,1, himm, task = 'max'))\n",
    "stop = timer()\n",
    "execution_time = stop - start\n",
    "print(execution_time)"
   ]
  },
  {
   "cell_type": "code",
   "execution_count": null,
   "id": "d9bfef34-2d8f-49eb-ae9b-faa010444328",
   "metadata": {},
   "outputs": [],
   "source": []
  }
 ],
 "metadata": {
  "kernelspec": {
   "display_name": "Python 3 (ipykernel)",
   "language": "python",
   "name": "python3"
  },
  "language_info": {
   "codemirror_mode": {
    "name": "ipython",
    "version": 3
   },
   "file_extension": ".py",
   "mimetype": "text/x-python",
   "name": "python",
   "nbconvert_exporter": "python",
   "pygments_lexer": "ipython3",
   "version": "3.12.7"
  }
 },
 "nbformat": 4,
 "nbformat_minor": 5
}
